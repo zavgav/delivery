{
 "cells": [
  {
   "cell_type": "code",
   "execution_count": 81,
   "metadata": {},
   "outputs": [],
   "source": [
    "# Импортирую необходимые библиотеки\n",
    "import numpy as np\n",
    "import pandas as pd\n",
    "\n",
    "from scipy import stats\n",
    "\n",
    "import matplotlib.pyplot as plt\n",
    "import seaborn as sns\n",
    "\n",
    "%matplotlib inline"
   ]
  },
  {
   "cell_type": "markdown",
   "metadata": {},
   "source": [
    "---"
   ]
  },
  {
   "cell_type": "markdown",
   "metadata": {},
   "source": [
    "**Описание данных**\n",
    "\n",
    "Таблица user_info:\n",
    "- `user_id` - id пользователя\n",
    "- `order_id` - id заказа\n",
    "- `action` - действие пользователя (создание или отмена заказа)\n",
    "- `time` - дата и время заказа\n",
    "- `date` - дата заказа\n",
    "- `group` - группа (1 - Новая система рекомендаций; 0 - Старая система рекомендаций)\n",
    "\n",
    "Таблица orders:\n",
    "- `order_id` - id заказа\n",
    "- `creation_time` - дата и время создания заказа\n",
    "- `product_ids` - массив с id продуктов\n",
    "\n",
    "Таблица products:\n",
    "- `product_id` - id продукта\n",
    "- `name` - название продукта\n",
    "- `price` - цена продукта"
   ]
  },
  {
   "cell_type": "markdown",
   "metadata": {},
   "source": [
    "---"
   ]
  },
  {
   "cell_type": "markdown",
   "metadata": {},
   "source": [
    "## Этап 0: Загрузка и Предобработка Данных"
   ]
  },
  {
   "cell_type": "code",
   "execution_count": 82,
   "metadata": {},
   "outputs": [],
   "source": [
    "user_info = pd.read_csv('ab_users_data.csv', parse_dates = ['time', 'date'])"
   ]
  },
  {
   "cell_type": "code",
   "execution_count": 83,
   "metadata": {},
   "outputs": [
    {
     "data": {
      "text/html": [
       "<div>\n",
       "<style scoped>\n",
       "    .dataframe tbody tr th:only-of-type {\n",
       "        vertical-align: middle;\n",
       "    }\n",
       "\n",
       "    .dataframe tbody tr th {\n",
       "        vertical-align: top;\n",
       "    }\n",
       "\n",
       "    .dataframe thead th {\n",
       "        text-align: right;\n",
       "    }\n",
       "</style>\n",
       "<table border=\"1\" class=\"dataframe\">\n",
       "  <thead>\n",
       "    <tr style=\"text-align: right;\">\n",
       "      <th></th>\n",
       "      <th>user_id</th>\n",
       "      <th>order_id</th>\n",
       "      <th>action</th>\n",
       "      <th>time</th>\n",
       "      <th>date</th>\n",
       "      <th>group</th>\n",
       "    </tr>\n",
       "  </thead>\n",
       "  <tbody>\n",
       "    <tr>\n",
       "      <th>0</th>\n",
       "      <td>964</td>\n",
       "      <td>1255</td>\n",
       "      <td>create_order</td>\n",
       "      <td>2022-08-26 00:00:19</td>\n",
       "      <td>2022-08-26</td>\n",
       "      <td>0</td>\n",
       "    </tr>\n",
       "    <tr>\n",
       "      <th>1</th>\n",
       "      <td>965</td>\n",
       "      <td>1256</td>\n",
       "      <td>create_order</td>\n",
       "      <td>2022-08-26 00:02:21</td>\n",
       "      <td>2022-08-26</td>\n",
       "      <td>1</td>\n",
       "    </tr>\n",
       "    <tr>\n",
       "      <th>2</th>\n",
       "      <td>964</td>\n",
       "      <td>1257</td>\n",
       "      <td>create_order</td>\n",
       "      <td>2022-08-26 00:02:27</td>\n",
       "      <td>2022-08-26</td>\n",
       "      <td>0</td>\n",
       "    </tr>\n",
       "    <tr>\n",
       "      <th>3</th>\n",
       "      <td>966</td>\n",
       "      <td>1258</td>\n",
       "      <td>create_order</td>\n",
       "      <td>2022-08-26 00:02:56</td>\n",
       "      <td>2022-08-26</td>\n",
       "      <td>0</td>\n",
       "    </tr>\n",
       "    <tr>\n",
       "      <th>4</th>\n",
       "      <td>967</td>\n",
       "      <td>1259</td>\n",
       "      <td>create_order</td>\n",
       "      <td>2022-08-26 00:03:37</td>\n",
       "      <td>2022-08-26</td>\n",
       "      <td>1</td>\n",
       "    </tr>\n",
       "  </tbody>\n",
       "</table>\n",
       "</div>"
      ],
      "text/plain": [
       "   user_id  order_id        action                time       date  group\n",
       "0      964      1255  create_order 2022-08-26 00:00:19 2022-08-26      0\n",
       "1      965      1256  create_order 2022-08-26 00:02:21 2022-08-26      1\n",
       "2      964      1257  create_order 2022-08-26 00:02:27 2022-08-26      0\n",
       "3      966      1258  create_order 2022-08-26 00:02:56 2022-08-26      0\n",
       "4      967      1259  create_order 2022-08-26 00:03:37 2022-08-26      1"
      ]
     },
     "execution_count": 83,
     "metadata": {},
     "output_type": "execute_result"
    }
   ],
   "source": [
    "user_info.head()"
   ]
  },
  {
   "cell_type": "code",
   "execution_count": 84,
   "metadata": {},
   "outputs": [
    {
     "name": "stdout",
     "output_type": "stream",
     "text": [
      "Размер датафрейма: (4337, 6)\n",
      "\n",
      "Типы данных:\n",
      "user_id              int64\n",
      "order_id             int64\n",
      "action              object\n",
      "time        datetime64[ns]\n",
      "date        datetime64[ns]\n",
      "group                int64\n",
      "dtype: object\n",
      "\n",
      "Пропущенные значения:\n",
      "user_id     0\n",
      "order_id    0\n",
      "action      0\n",
      "time        0\n",
      "date        0\n",
      "group       0\n",
      "dtype: int64\n",
      "\n",
      "Уникальные значения:\n",
      "user_id     1017\n",
      "order_id    4123\n",
      "action         2\n",
      "time        4312\n",
      "date          14\n",
      "group          2\n",
      "dtype: int64\n"
     ]
    }
   ],
   "source": [
    "print(f'Размер датафрейма: {user_info.shape}\\n\\nТипы данных:\\n{user_info.dtypes}\\n\\nПропущенные значения:\\n{user_info.isna().sum()}\\n\\nУникальные значения:\\n{user_info.nunique()}')"
   ]
  },
  {
   "cell_type": "markdown",
   "metadata": {},
   "source": [
    "---"
   ]
  },
  {
   "cell_type": "code",
   "execution_count": 85,
   "metadata": {},
   "outputs": [],
   "source": [
    "orders = pd.read_csv('ab_orders.csv', parse_dates = ['creation_time'])"
   ]
  },
  {
   "cell_type": "code",
   "execution_count": 86,
   "metadata": {},
   "outputs": [
    {
     "data": {
      "text/html": [
       "<div>\n",
       "<style scoped>\n",
       "    .dataframe tbody tr th:only-of-type {\n",
       "        vertical-align: middle;\n",
       "    }\n",
       "\n",
       "    .dataframe tbody tr th {\n",
       "        vertical-align: top;\n",
       "    }\n",
       "\n",
       "    .dataframe thead th {\n",
       "        text-align: right;\n",
       "    }\n",
       "</style>\n",
       "<table border=\"1\" class=\"dataframe\">\n",
       "  <thead>\n",
       "    <tr style=\"text-align: right;\">\n",
       "      <th></th>\n",
       "      <th>order_id</th>\n",
       "      <th>creation_time</th>\n",
       "      <th>product_ids</th>\n",
       "    </tr>\n",
       "  </thead>\n",
       "  <tbody>\n",
       "    <tr>\n",
       "      <th>0</th>\n",
       "      <td>1255</td>\n",
       "      <td>2022-08-26 00:00:19</td>\n",
       "      <td>{75, 22, 53, 84}</td>\n",
       "    </tr>\n",
       "    <tr>\n",
       "      <th>1</th>\n",
       "      <td>1256</td>\n",
       "      <td>2022-08-26 00:02:21</td>\n",
       "      <td>{56, 76, 39}</td>\n",
       "    </tr>\n",
       "    <tr>\n",
       "      <th>2</th>\n",
       "      <td>1257</td>\n",
       "      <td>2022-08-26 00:02:27</td>\n",
       "      <td>{76, 34, 41, 38}</td>\n",
       "    </tr>\n",
       "    <tr>\n",
       "      <th>3</th>\n",
       "      <td>1258</td>\n",
       "      <td>2022-08-26 00:02:56</td>\n",
       "      <td>{74, 6}</td>\n",
       "    </tr>\n",
       "    <tr>\n",
       "      <th>4</th>\n",
       "      <td>1259</td>\n",
       "      <td>2022-08-26 00:03:37</td>\n",
       "      <td>{20, 45, 67, 26}</td>\n",
       "    </tr>\n",
       "  </tbody>\n",
       "</table>\n",
       "</div>"
      ],
      "text/plain": [
       "   order_id       creation_time       product_ids\n",
       "0      1255 2022-08-26 00:00:19  {75, 22, 53, 84}\n",
       "1      1256 2022-08-26 00:02:21      {56, 76, 39}\n",
       "2      1257 2022-08-26 00:02:27  {76, 34, 41, 38}\n",
       "3      1258 2022-08-26 00:02:56           {74, 6}\n",
       "4      1259 2022-08-26 00:03:37  {20, 45, 67, 26}"
      ]
     },
     "execution_count": 86,
     "metadata": {},
     "output_type": "execute_result"
    }
   ],
   "source": [
    "orders.head()"
   ]
  },
  {
   "cell_type": "code",
   "execution_count": 87,
   "metadata": {},
   "outputs": [
    {
     "name": "stdout",
     "output_type": "stream",
     "text": [
      "Размер датафрейма: (4123, 3)\n",
      "\n",
      "Типы данных:\n",
      "order_id                  int64\n",
      "creation_time    datetime64[ns]\n",
      "product_ids              object\n",
      "dtype: object\n",
      "\n",
      "Пропущенные значения:\n",
      "order_id         0\n",
      "creation_time    0\n",
      "product_ids      0\n",
      "dtype: int64\n",
      "\n",
      "Уникальные значения:\n",
      "order_id         4123\n",
      "creation_time    4098\n",
      "product_ids      3877\n",
      "dtype: int64\n"
     ]
    }
   ],
   "source": [
    "print(f'Размер датафрейма: {orders.shape}\\n\\nТипы данных:\\n{orders.dtypes}\\n\\nПропущенные значения:\\n{orders.isna().sum()}\\n\\nУникальные значения:\\n{orders.nunique()}')"
   ]
  },
  {
   "cell_type": "markdown",
   "metadata": {},
   "source": [
    "---"
   ]
  },
  {
   "cell_type": "code",
   "execution_count": 88,
   "metadata": {},
   "outputs": [],
   "source": [
    "products = pd.read_csv('ab_products.csv')"
   ]
  },
  {
   "cell_type": "code",
   "execution_count": 89,
   "metadata": {},
   "outputs": [
    {
     "data": {
      "text/html": [
       "<div>\n",
       "<style scoped>\n",
       "    .dataframe tbody tr th:only-of-type {\n",
       "        vertical-align: middle;\n",
       "    }\n",
       "\n",
       "    .dataframe tbody tr th {\n",
       "        vertical-align: top;\n",
       "    }\n",
       "\n",
       "    .dataframe thead th {\n",
       "        text-align: right;\n",
       "    }\n",
       "</style>\n",
       "<table border=\"1\" class=\"dataframe\">\n",
       "  <thead>\n",
       "    <tr style=\"text-align: right;\">\n",
       "      <th></th>\n",
       "      <th>product_id</th>\n",
       "      <th>name</th>\n",
       "      <th>price</th>\n",
       "    </tr>\n",
       "  </thead>\n",
       "  <tbody>\n",
       "    <tr>\n",
       "      <th>0</th>\n",
       "      <td>1</td>\n",
       "      <td>сахар</td>\n",
       "      <td>150.0</td>\n",
       "    </tr>\n",
       "    <tr>\n",
       "      <th>1</th>\n",
       "      <td>2</td>\n",
       "      <td>чай зеленый в пакетиках</td>\n",
       "      <td>50.0</td>\n",
       "    </tr>\n",
       "    <tr>\n",
       "      <th>2</th>\n",
       "      <td>3</td>\n",
       "      <td>вода негазированная</td>\n",
       "      <td>80.4</td>\n",
       "    </tr>\n",
       "    <tr>\n",
       "      <th>3</th>\n",
       "      <td>4</td>\n",
       "      <td>леденцы</td>\n",
       "      <td>45.5</td>\n",
       "    </tr>\n",
       "    <tr>\n",
       "      <th>4</th>\n",
       "      <td>5</td>\n",
       "      <td>кофе 3 в 1</td>\n",
       "      <td>15.0</td>\n",
       "    </tr>\n",
       "  </tbody>\n",
       "</table>\n",
       "</div>"
      ],
      "text/plain": [
       "   product_id                     name  price\n",
       "0           1                    сахар  150.0\n",
       "1           2  чай зеленый в пакетиках   50.0\n",
       "2           3      вода негазированная   80.4\n",
       "3           4                  леденцы   45.5\n",
       "4           5               кофе 3 в 1   15.0"
      ]
     },
     "execution_count": 89,
     "metadata": {},
     "output_type": "execute_result"
    }
   ],
   "source": [
    "products.head()"
   ]
  },
  {
   "cell_type": "code",
   "execution_count": 90,
   "metadata": {},
   "outputs": [
    {
     "name": "stdout",
     "output_type": "stream",
     "text": [
      "Размер датафрейма: (87, 3)\n",
      "\n",
      "Типы данных:\n",
      "product_id      int64\n",
      "name           object\n",
      "price         float64\n",
      "dtype: object\n",
      "\n",
      "Пропущенные значения:\n",
      "product_id    0\n",
      "name          0\n",
      "price         0\n",
      "dtype: int64\n",
      "\n",
      "Уникальные значения:\n",
      "product_id    87\n",
      "name          87\n",
      "price         63\n",
      "dtype: int64\n"
     ]
    }
   ],
   "source": [
    "print(f'Размер датафрейма: {products.shape}\\n\\nТипы данных:\\n{products.dtypes}\\n\\nПропущенные значения:\\n{products.isna().sum()}\\n\\nУникальные значения:\\n{products.nunique()}')"
   ]
  },
  {
   "cell_type": "markdown",
   "metadata": {},
   "source": [
    "**Проверим, сколько уникальных пользователей учавствовало в каждой из групп**"
   ]
  },
  {
   "cell_type": "code",
   "execution_count": 91,
   "metadata": {},
   "outputs": [
    {
     "name": "stdout",
     "output_type": "stream",
     "text": [
      "Кол-во уникальных пользователей в контрольной группе: 515 человек\n",
      "Кол-во уникальных пользователей в экспериментальной группе: 502 человека\n"
     ]
    }
   ],
   "source": [
    "print(f'Кол-во уникальных пользователей в контрольной группе: {user_info.query(\"group == 0\").user_id.nunique()} человек\\nКол-во уникальных пользователей в экспериментальной группе: {user_info.query(\"group == 1\").user_id.nunique()} человека')"
   ]
  },
  {
   "cell_type": "markdown",
   "metadata": {},
   "source": [
    "Видно, что кол-во человек в группах примерно одинаково."
   ]
  },
  {
   "cell_type": "markdown",
   "metadata": {},
   "source": [
    "---"
   ]
  },
  {
   "cell_type": "markdown",
   "metadata": {},
   "source": [
    "## Этап 1: Оценить, смогла ли новая система рекомендаций принести пользу бизнесу и пользователям приложения"
   ]
  },
  {
   "cell_type": "markdown",
   "metadata": {},
   "source": [
    "*Для этого нужно выбрать метрики, которые отвечают за качество сервиса, и статистически сравнить эти метрики в двух группах.*"
   ]
  },
  {
   "cell_type": "markdown",
   "metadata": {},
   "source": [
    "### 1.2: Выбор ключевых метрик"
   ]
  },
  {
   "cell_type": "markdown",
   "metadata": {},
   "source": [
    "*Ключевая цель любого бизнеса - деньги. Поэтому, те решения, которые внедряются в приложение/сервис должны прямо или косвенно быть направлены на увеличение дохода. Ключевые метрики, которые стоит проверить: средний чек, количество заказов в день, возвращаемость клиентов (retention)*"
   ]
  },
  {
   "cell_type": "markdown",
   "metadata": {},
   "source": [
    "### Средний Чек Заказа (AOV)"
   ]
  },
  {
   "cell_type": "markdown",
   "metadata": {},
   "source": [
    "Во-первых, попробуем посмотреть, изменился ли средний чек в двух группах."
   ]
  },
  {
   "cell_type": "markdown",
   "metadata": {},
   "source": [
    "Также, будем работать с заказами, которые не были отменены"
   ]
  },
  {
   "cell_type": "markdown",
   "metadata": {},
   "source": [
    "Так как колонка product_ids представлена не в виде питоновского массива, то преобразуем ее."
   ]
  },
  {
   "cell_type": "code",
   "execution_count": 92,
   "metadata": {},
   "outputs": [],
   "source": [
    "# преобразовываем значения в массив чисел\n",
    "orders['product_ids'] = orders.product_ids.str.strip('{}')  # удаляем скобки\n",
    "orders['product_ids'] = orders.product_ids.str.split(',').apply(lambda x: [int(i) for i in x])  # разбиваем строку и преобразуем в числа"
   ]
  },
  {
   "cell_type": "code",
   "execution_count": 93,
   "metadata": {},
   "outputs": [],
   "source": [
    "accepted_orders_info = user_info \\\n",
    "    .query('action != \"cancel_order\"') \\\n",
    "    .merge(orders, on = 'order_id', how = 'left') \\\n",
    "    .explode('product_ids') \\\n",
    "    .rename(columns = {'product_ids': 'product_id'}) \\\n",
    "    .merge(products, on = 'product_id', how = 'left')"
   ]
  },
  {
   "cell_type": "code",
   "execution_count": 94,
   "metadata": {},
   "outputs": [
    {
     "data": {
      "text/html": [
       "<div>\n",
       "<style scoped>\n",
       "    .dataframe tbody tr th:only-of-type {\n",
       "        vertical-align: middle;\n",
       "    }\n",
       "\n",
       "    .dataframe tbody tr th {\n",
       "        vertical-align: top;\n",
       "    }\n",
       "\n",
       "    .dataframe thead th {\n",
       "        text-align: right;\n",
       "    }\n",
       "</style>\n",
       "<table border=\"1\" class=\"dataframe\">\n",
       "  <thead>\n",
       "    <tr style=\"text-align: right;\">\n",
       "      <th></th>\n",
       "      <th>user_id</th>\n",
       "      <th>order_id</th>\n",
       "      <th>action</th>\n",
       "      <th>time</th>\n",
       "      <th>date</th>\n",
       "      <th>group</th>\n",
       "      <th>creation_time</th>\n",
       "      <th>product_id</th>\n",
       "      <th>name</th>\n",
       "      <th>price</th>\n",
       "    </tr>\n",
       "  </thead>\n",
       "  <tbody>\n",
       "    <tr>\n",
       "      <th>0</th>\n",
       "      <td>964</td>\n",
       "      <td>1255</td>\n",
       "      <td>create_order</td>\n",
       "      <td>2022-08-26 00:00:19</td>\n",
       "      <td>2022-08-26</td>\n",
       "      <td>0</td>\n",
       "      <td>2022-08-26 00:00:19</td>\n",
       "      <td>75</td>\n",
       "      <td>сок ананасовый</td>\n",
       "      <td>120.0</td>\n",
       "    </tr>\n",
       "    <tr>\n",
       "      <th>1</th>\n",
       "      <td>964</td>\n",
       "      <td>1255</td>\n",
       "      <td>create_order</td>\n",
       "      <td>2022-08-26 00:00:19</td>\n",
       "      <td>2022-08-26</td>\n",
       "      <td>0</td>\n",
       "      <td>2022-08-26 00:00:19</td>\n",
       "      <td>22</td>\n",
       "      <td>сок мультифрукт</td>\n",
       "      <td>120.0</td>\n",
       "    </tr>\n",
       "    <tr>\n",
       "      <th>2</th>\n",
       "      <td>964</td>\n",
       "      <td>1255</td>\n",
       "      <td>create_order</td>\n",
       "      <td>2022-08-26 00:00:19</td>\n",
       "      <td>2022-08-26</td>\n",
       "      <td>0</td>\n",
       "      <td>2022-08-26 00:00:19</td>\n",
       "      <td>53</td>\n",
       "      <td>мука</td>\n",
       "      <td>78.3</td>\n",
       "    </tr>\n",
       "    <tr>\n",
       "      <th>3</th>\n",
       "      <td>964</td>\n",
       "      <td>1255</td>\n",
       "      <td>create_order</td>\n",
       "      <td>2022-08-26 00:00:19</td>\n",
       "      <td>2022-08-26</td>\n",
       "      <td>0</td>\n",
       "      <td>2022-08-26 00:00:19</td>\n",
       "      <td>84</td>\n",
       "      <td>мандарины</td>\n",
       "      <td>90.4</td>\n",
       "    </tr>\n",
       "    <tr>\n",
       "      <th>4</th>\n",
       "      <td>965</td>\n",
       "      <td>1256</td>\n",
       "      <td>create_order</td>\n",
       "      <td>2022-08-26 00:02:21</td>\n",
       "      <td>2022-08-26</td>\n",
       "      <td>1</td>\n",
       "      <td>2022-08-26 00:02:21</td>\n",
       "      <td>56</td>\n",
       "      <td>сосиски</td>\n",
       "      <td>150.0</td>\n",
       "    </tr>\n",
       "  </tbody>\n",
       "</table>\n",
       "</div>"
      ],
      "text/plain": [
       "   user_id  order_id        action                time       date  group  \\\n",
       "0      964      1255  create_order 2022-08-26 00:00:19 2022-08-26      0   \n",
       "1      964      1255  create_order 2022-08-26 00:00:19 2022-08-26      0   \n",
       "2      964      1255  create_order 2022-08-26 00:00:19 2022-08-26      0   \n",
       "3      964      1255  create_order 2022-08-26 00:00:19 2022-08-26      0   \n",
       "4      965      1256  create_order 2022-08-26 00:02:21 2022-08-26      1   \n",
       "\n",
       "        creation_time product_id             name  price  \n",
       "0 2022-08-26 00:00:19         75   сок ананасовый  120.0  \n",
       "1 2022-08-26 00:00:19         22  сок мультифрукт  120.0  \n",
       "2 2022-08-26 00:00:19         53             мука   78.3  \n",
       "3 2022-08-26 00:00:19         84        мандарины   90.4  \n",
       "4 2022-08-26 00:02:21         56          сосиски  150.0  "
      ]
     },
     "execution_count": 94,
     "metadata": {},
     "output_type": "execute_result"
    }
   ],
   "source": [
    "accepted_orders_info.head()"
   ]
  },
  {
   "cell_type": "code",
   "execution_count": 95,
   "metadata": {},
   "outputs": [],
   "source": [
    "aov = accepted_orders_info \\\n",
    "    .groupby(['order_id', 'date', 'group'], as_index = False) \\\n",
    "    .agg({'price': 'sum'}) \\\n",
    "    .pivot_table(index = 'date', columns = 'group', values = 'price', aggfunc = 'mean') \\\n",
    "    .rename(columns = {0: 'control', 1: 'experimental'})"
   ]
  },
  {
   "cell_type": "code",
   "execution_count": 96,
   "metadata": {},
   "outputs": [
    {
     "data": {
      "text/html": [
       "<div>\n",
       "<style scoped>\n",
       "    .dataframe tbody tr th:only-of-type {\n",
       "        vertical-align: middle;\n",
       "    }\n",
       "\n",
       "    .dataframe tbody tr th {\n",
       "        vertical-align: top;\n",
       "    }\n",
       "\n",
       "    .dataframe thead th {\n",
       "        text-align: right;\n",
       "    }\n",
       "</style>\n",
       "<table border=\"1\" class=\"dataframe\">\n",
       "  <thead>\n",
       "    <tr style=\"text-align: right;\">\n",
       "      <th>group</th>\n",
       "      <th>control</th>\n",
       "      <th>experimental</th>\n",
       "    </tr>\n",
       "    <tr>\n",
       "      <th>date</th>\n",
       "      <th></th>\n",
       "      <th></th>\n",
       "    </tr>\n",
       "  </thead>\n",
       "  <tbody>\n",
       "    <tr>\n",
       "      <th>2022-08-26</th>\n",
       "      <td>381.846019</td>\n",
       "      <td>359.925109</td>\n",
       "    </tr>\n",
       "    <tr>\n",
       "      <th>2022-08-27</th>\n",
       "      <td>375.962500</td>\n",
       "      <td>384.411282</td>\n",
       "    </tr>\n",
       "    <tr>\n",
       "      <th>2022-08-28</th>\n",
       "      <td>350.365217</td>\n",
       "      <td>371.211483</td>\n",
       "    </tr>\n",
       "    <tr>\n",
       "      <th>2022-08-29</th>\n",
       "      <td>406.533929</td>\n",
       "      <td>383.579130</td>\n",
       "    </tr>\n",
       "    <tr>\n",
       "      <th>2022-08-30</th>\n",
       "      <td>357.126531</td>\n",
       "      <td>343.498758</td>\n",
       "    </tr>\n",
       "    <tr>\n",
       "      <th>2022-08-31</th>\n",
       "      <td>412.923881</td>\n",
       "      <td>373.987200</td>\n",
       "    </tr>\n",
       "    <tr>\n",
       "      <th>2022-09-01</th>\n",
       "      <td>391.267105</td>\n",
       "      <td>368.436765</td>\n",
       "    </tr>\n",
       "    <tr>\n",
       "      <th>2022-09-02</th>\n",
       "      <td>435.177922</td>\n",
       "      <td>374.567857</td>\n",
       "    </tr>\n",
       "    <tr>\n",
       "      <th>2022-09-03</th>\n",
       "      <td>402.216667</td>\n",
       "      <td>404.117219</td>\n",
       "    </tr>\n",
       "    <tr>\n",
       "      <th>2022-09-04</th>\n",
       "      <td>345.650575</td>\n",
       "      <td>383.087586</td>\n",
       "    </tr>\n",
       "    <tr>\n",
       "      <th>2022-09-05</th>\n",
       "      <td>314.143478</td>\n",
       "      <td>335.851852</td>\n",
       "    </tr>\n",
       "    <tr>\n",
       "      <th>2022-09-06</th>\n",
       "      <td>386.343137</td>\n",
       "      <td>343.423438</td>\n",
       "    </tr>\n",
       "    <tr>\n",
       "      <th>2022-09-07</th>\n",
       "      <td>383.662963</td>\n",
       "      <td>364.447959</td>\n",
       "    </tr>\n",
       "    <tr>\n",
       "      <th>2022-09-08</th>\n",
       "      <td>381.795349</td>\n",
       "      <td>382.333333</td>\n",
       "    </tr>\n",
       "  </tbody>\n",
       "</table>\n",
       "</div>"
      ],
      "text/plain": [
       "group          control  experimental\n",
       "date                                \n",
       "2022-08-26  381.846019    359.925109\n",
       "2022-08-27  375.962500    384.411282\n",
       "2022-08-28  350.365217    371.211483\n",
       "2022-08-29  406.533929    383.579130\n",
       "2022-08-30  357.126531    343.498758\n",
       "2022-08-31  412.923881    373.987200\n",
       "2022-09-01  391.267105    368.436765\n",
       "2022-09-02  435.177922    374.567857\n",
       "2022-09-03  402.216667    404.117219\n",
       "2022-09-04  345.650575    383.087586\n",
       "2022-09-05  314.143478    335.851852\n",
       "2022-09-06  386.343137    343.423438\n",
       "2022-09-07  383.662963    364.447959\n",
       "2022-09-08  381.795349    382.333333"
      ]
     },
     "execution_count": 96,
     "metadata": {},
     "output_type": "execute_result"
    }
   ],
   "source": [
    "aov"
   ]
  },
  {
   "cell_type": "markdown",
   "metadata": {},
   "source": [
    "*Получили метрику AOV, но пока непонятно, в какой группе средний чек больше. Визуализируем данные*"
   ]
  },
  {
   "cell_type": "code",
   "execution_count": 97,
   "metadata": {},
   "outputs": [
    {
     "data": {
      "text/plain": [
       "<matplotlib.axes._subplots.AxesSubplot at 0x7f76557cc4e0>"
      ]
     },
     "execution_count": 97,
     "metadata": {},
     "output_type": "execute_result"
    },
    {
     "data": {
      "image/png": "[encoded data removed]",
      "text/plain": [
       "<Figure size 1152x432 with 1 Axes>"
      ]
     },
     "metadata": {
      "needs_background": "light"
     },
     "output_type": "display_data"
    }
   ],
   "source": [
    "plt.figure(figsize = (16, 6))\n",
    "sns.lineplot(data = aov)"
   ]
  },
  {
   "cell_type": "markdown",
   "metadata": {},
   "source": [
    "*Сложно сделать какой-либо вывод по данному графику. Заметно, что в целом в группе `control` средний чек выше. Но надо убедиться в этом с помощью статистических тестов. Во-первых, необходимо проверить наши выборки на нормальность, а затем выбрать тест.*"
   ]
  },
  {
   "cell_type": "code",
   "execution_count": 98,
   "metadata": {},
   "outputs": [
    {
     "data": {
      "text/plain": [
       "<matplotlib.axes._subplots.AxesSubplot at 0x7f7691b9c978>"
      ]
     },
     "execution_count": 98,
     "metadata": {},
     "output_type": "execute_result"
    },
    {
     "data": {
      "image/png": "[encoded data removed]",
      "text/plain": [
       "<Figure size 432x288 with 2 Axes>"
      ]
     },
     "metadata": {
      "needs_background": "light"
     },
     "output_type": "display_data"
    }
   ],
   "source": [
    "fig, ax = plt.subplots(1, 2)\n",
    "sns.histplot(aov['control'], ax = ax[0])\n",
    "sns.histplot(aov['experimental'], ax = ax[1])"
   ]
  },
  {
   "cell_type": "markdown",
   "metadata": {},
   "source": [
    "*Нулевая гипотеза - Распределение является нормальным; Альтернативная гипотеза утверждает обратное.*"
   ]
  },
  {
   "cell_type": "code",
   "execution_count": 99,
   "metadata": {},
   "outputs": [
    {
     "name": "stdout",
     "output_type": "stream",
     "text": [
      "p-value: 0.92 | Нет оснований отклонить нулевую гипотезу.\n"
     ]
    }
   ],
   "source": [
    "if stats.shapiro(aov['control'])[1] < 0.05:\n",
    "    print(f'p-value: {np.round(stats.shapiro(aov[\"control\"])[1], 2)} | Есть основание отклонить нулевую гипотезу.')\n",
    "else:\n",
    "    print(f'p-value: {np.round(stats.shapiro(aov[\"control\"])[1], 2)} | Нет оснований отклонить нулевую гипотезу.')\n"
   ]
  },
  {
   "cell_type": "code",
   "execution_count": 100,
   "metadata": {},
   "outputs": [
    {
     "name": "stdout",
     "output_type": "stream",
     "text": [
      "p-value: 0.53 | Нет оснований отклонить нулевую гипотезу.\n"
     ]
    }
   ],
   "source": [
    "if stats.shapiro(aov['experimental'])[1] < 0.05:\n",
    "    print(f'p-value: {np.round(stats.shapiro(aov[\"experimental\"])[1], 2)} | Есть основание отклонить нулевую гипотезу.')\n",
    "else:\n",
    "    print(f'p-value: {np.round(stats.shapiro(aov[\"experimental\"])[1], 2)} | Нет оснований отклонить нулевую гипотезу.')"
   ]
  },
  {
   "cell_type": "markdown",
   "metadata": {},
   "source": [
    "*Так как выборки маленькие, использовал тест Шапиро-Уилка на нормальность распределения. Тест проверяет нулевую гипотезу, что распределение нормально.*"
   ]
  },
  {
   "cell_type": "markdown",
   "metadata": {},
   "source": [
    "*Теперь можно сравнить AOV в обеих группах с помощью T-теста, который проверяет нулевую гипотезу о равенстве средних.*"
   ]
  },
  {
   "cell_type": "code",
   "execution_count": 101,
   "metadata": {},
   "outputs": [
    {
     "name": "stdout",
     "output_type": "stream",
     "text": [
      "p-value: 0.27 | Нет оснований отклонить нулевую гипотезу\n"
     ]
    }
   ],
   "source": [
    "if stats.ttest_ind(aov['control'], aov['experimental'])[1] < 0.05:\n",
    "    print(f\"p-value: {np.round(stats.ttest_ind(aov['control'], aov['experimental'])[1], 2)} | Есть основание отклонить нулевую гипотезу\")\n",
    "else:\n",
    "    print(f\"p-value: {np.round(stats.ttest_ind(aov['control'], aov['experimental'])[1], 2)} | Нет оснований отклонить нулевую гипотезу\")"
   ]
  },
  {
   "cell_type": "markdown",
   "metadata": {},
   "source": [
    "Результат теста: p-value = 0.27, что больше порога значимости 0.05. Значит, средний чек в этих группах статистически не различается"
   ]
  },
  {
   "cell_type": "markdown",
   "metadata": {},
   "source": [
    "### Вывод: Новый алгоритм не повлиял на средний чек заказа"
   ]
  },
  {
   "cell_type": "markdown",
   "metadata": {},
   "source": [
    "---"
   ]
  },
  {
   "cell_type": "markdown",
   "metadata": {},
   "source": [
    "*Решил копнуть дальше и посмотреть, есть ли отличия в суммах каждого заказа*"
   ]
  },
  {
   "cell_type": "markdown",
   "metadata": {},
   "source": [
    "**Суммарный чека заказов**"
   ]
  },
  {
   "cell_type": "code",
   "execution_count": 149,
   "metadata": {},
   "outputs": [],
   "source": [
    "orders_value = accepted_orders_info \\\n",
    "    .groupby(['order_id', 'group'], as_index = False) \\\n",
    "    .agg({'price': 'sum'}) \\\n",
    "    .pivot(index = 'order_id', columns = 'group', values = 'price') \\\n",
    "    .rename(columns = {0: 'control', 1: 'experimental'})"
   ]
  },
  {
   "cell_type": "code",
   "execution_count": 150,
   "metadata": {},
   "outputs": [
    {
     "data": {
      "text/plain": [
       "group\n",
       "control         381.285768\n",
       "experimental    369.622912\n",
       "dtype: float64"
      ]
     },
     "execution_count": 150,
     "metadata": {},
     "output_type": "execute_result"
    }
   ],
   "source": [
    "orders_value.mean()"
   ]
  },
  {
   "cell_type": "markdown",
   "metadata": {},
   "source": [
    "*Предварительно можно сказать, что в экспериментальной группе средний чек у заказов меньше, чем в контрольной группе. Удостоверюсь в этом с помощью статистических тестов.*"
   ]
  },
  {
   "cell_type": "markdown",
   "metadata": {},
   "source": [
    "*Построю на распределение суммы чеков заказов для двух групп*"
   ]
  },
  {
   "cell_type": "code",
   "execution_count": 104,
   "metadata": {},
   "outputs": [
    {
     "data": {
      "text/plain": [
       "<matplotlib.axes._subplots.AxesSubplot at 0x7f7690f955c0>"
      ]
     },
     "execution_count": 104,
     "metadata": {},
     "output_type": "execute_result"
    },
    {
     "data": {
      "image/png": "[encoded data removed]",
      "text/plain": [
       "<Figure size 1008x432 with 1 Axes>"
      ]
     },
     "metadata": {
      "needs_background": "light"
     },
     "output_type": "display_data"
    }
   ],
   "source": [
    "plt.figure(figsize = (14, 6))\n",
    "sns.histplot(orders_value)"
   ]
  },
  {
   "cell_type": "markdown",
   "metadata": {},
   "source": [
    "*Заметно, что распределение не сильно похоже на нормальное, что дает ограничение в применении некоторых тестов. Также, проверю распределения на нормальность с потощью метода normaltest из библиотеки scipy*"
   ]
  },
  {
   "cell_type": "code",
   "execution_count": 152,
   "metadata": {},
   "outputs": [
    {
     "name": "stdout",
     "output_type": "stream",
     "text": [
      "p-value: 2.122196897492167e-63 | Есть основания отклонить нулевую гипотезу о нормальности распределения\n"
     ]
    }
   ],
   "source": [
    "if stats.normaltest(orders_value['control'].dropna())[1] < 0.05:\n",
    "    print(f'p-value: {stats.normaltest(orders_value[\"control\"].dropna())[1]} | Есть основания отклонить нулевую гипотезу о нормальности распределения')\n",
    "else:\n",
    "    print(f'p-value: {stats.normaltest(orders_value[\"control\"].dropna())[1]} | Нет основания отклонить нулевую гипотезу о нормальности распределения')"
   ]
  },
  {
   "cell_type": "markdown",
   "metadata": {},
   "source": [
    "*Попробую добиться нормальности распределения с помощью логарифмирования значений.*"
   ]
  },
  {
   "cell_type": "code",
   "execution_count": 106,
   "metadata": {},
   "outputs": [
    {
     "data": {
      "text/plain": [
       "<matplotlib.axes._subplots.AxesSubplot at 0x7f76919854e0>"
      ]
     },
     "execution_count": 106,
     "metadata": {},
     "output_type": "execute_result"
    },
    {
     "data": {
      "image/png": "[encoded data removed]",
      "text/plain": [
       "<Figure size 1008x432 with 1 Axes>"
      ]
     },
     "metadata": {
      "needs_background": "light"
     },
     "output_type": "display_data"
    }
   ],
   "source": [
    "plt.figure(figsize = (14, 6))\n",
    "sns.histplot([np.log(orders_value['control'].dropna()), np.log(orders_value['experimental'].dropna())])"
   ]
  },
  {
   "cell_type": "markdown",
   "metadata": {},
   "source": [
    "*Получилось что-то похоже на нормальное распределение, но также имеются выбросы*"
   ]
  },
  {
   "cell_type": "markdown",
   "metadata": {},
   "source": [
    "*Теперь, зная характер нашего распределения можем применять два статистических теста: 1 - Критерий Манна-Уитни, который сравнивает два распределения между собой (не средние; не медианы); 2 - t-тест, для нормального распределения, который сравнит средние значения*"
   ]
  },
  {
   "cell_type": "code",
   "execution_count": 107,
   "metadata": {},
   "outputs": [
    {
     "name": "stdout",
     "output_type": "stream",
     "text": [
      "T-Test: p-value: 0.07206829022429478\n",
      "Нет оснований отклонить нулевую гипотезу о равенстве средних\n"
     ]
    }
   ],
   "source": [
    "if stats.ttest_ind(np.log(orders_value['control'].dropna()), np.log(orders_value['experimental'].dropna()))[1] < 0.05:\n",
    "    print(f\"\"\"T-Test: p-value: {stats.ttest_ind(np.log(orders_value['control'].dropna()), np.log(orders_value['experimental'].dropna()))[1]}\n",
    "Есть основания отклонить нулевую гипотезу о равенстве средних\n",
    "           \"\"\")\n",
    "else:\n",
    "     print(f\"\"\"T-Test: p-value: {stats.ttest_ind(np.log(orders_value['control'].dropna()), np.log(orders_value['experimental'].dropna()))[1]}\n",
    "Нет оснований отклонить нулевую гипотезу о равенстве средних\"\"\")"
   ]
  },
  {
   "cell_type": "code",
   "execution_count": 109,
   "metadata": {},
   "outputs": [
    {
     "name": "stdout",
     "output_type": "stream",
     "text": [
      "MW-Test: p-value: 0.07092841758633131\n",
      "Нет оснований отклонить нулевую гипотезу о равенстве распределений\n"
     ]
    }
   ],
   "source": [
    "if stats.mannwhitneyu(orders_value['control'].dropna(), orders_value['experimental'].dropna())[1] < 0.05:\n",
    "    print(f\"\"\"MW-Test: p-value: {stats.mannwhitneyu(orders_value['control'].dropna(), orders_value['experimental'].dropna())[1]}\n",
    "Есть основания отклонить нулевую гипотезу о равенстве распределений\n",
    "           \"\"\")\n",
    "else:\n",
    "     print(f\"\"\"MW-Test: p-value: {stats.mannwhitneyu(orders_value['control'].dropna(), orders_value['experimental'].dropna())[1]}\n",
    "Нет оснований отклонить нулевую гипотезу о равенстве распределений\"\"\")"
   ]
  },
  {
   "cell_type": "markdown",
   "metadata": {},
   "source": [
    "**Дальше, мне интересно было проверить, а как ведет себя p-value начиная со дня старта эксперимента**"
   ]
  },
  {
   "cell_type": "code",
   "execution_count": 110,
   "metadata": {
    "scrolled": false
   },
   "outputs": [
    {
     "data": {
      "text/html": [
       "<div>\n",
       "<style scoped>\n",
       "    .dataframe tbody tr th:only-of-type {\n",
       "        vertical-align: middle;\n",
       "    }\n",
       "\n",
       "    .dataframe tbody tr th {\n",
       "        vertical-align: top;\n",
       "    }\n",
       "\n",
       "    .dataframe thead th {\n",
       "        text-align: right;\n",
       "    }\n",
       "</style>\n",
       "<table border=\"1\" class=\"dataframe\">\n",
       "  <thead>\n",
       "    <tr style=\"text-align: right;\">\n",
       "      <th></th>\n",
       "      <th>user_id</th>\n",
       "      <th>order_id</th>\n",
       "      <th>action</th>\n",
       "      <th>time</th>\n",
       "      <th>date</th>\n",
       "      <th>group</th>\n",
       "      <th>creation_time</th>\n",
       "      <th>product_id</th>\n",
       "      <th>name</th>\n",
       "      <th>price</th>\n",
       "    </tr>\n",
       "  </thead>\n",
       "  <tbody>\n",
       "    <tr>\n",
       "      <th>0</th>\n",
       "      <td>964</td>\n",
       "      <td>1255</td>\n",
       "      <td>create_order</td>\n",
       "      <td>2022-08-26 00:00:19</td>\n",
       "      <td>2022-08-26</td>\n",
       "      <td>0</td>\n",
       "      <td>2022-08-26 00:00:19</td>\n",
       "      <td>75</td>\n",
       "      <td>сок ананасовый</td>\n",
       "      <td>120.0</td>\n",
       "    </tr>\n",
       "    <tr>\n",
       "      <th>1</th>\n",
       "      <td>964</td>\n",
       "      <td>1255</td>\n",
       "      <td>create_order</td>\n",
       "      <td>2022-08-26 00:00:19</td>\n",
       "      <td>2022-08-26</td>\n",
       "      <td>0</td>\n",
       "      <td>2022-08-26 00:00:19</td>\n",
       "      <td>22</td>\n",
       "      <td>сок мультифрукт</td>\n",
       "      <td>120.0</td>\n",
       "    </tr>\n",
       "    <tr>\n",
       "      <th>2</th>\n",
       "      <td>964</td>\n",
       "      <td>1255</td>\n",
       "      <td>create_order</td>\n",
       "      <td>2022-08-26 00:00:19</td>\n",
       "      <td>2022-08-26</td>\n",
       "      <td>0</td>\n",
       "      <td>2022-08-26 00:00:19</td>\n",
       "      <td>53</td>\n",
       "      <td>мука</td>\n",
       "      <td>78.3</td>\n",
       "    </tr>\n",
       "    <tr>\n",
       "      <th>3</th>\n",
       "      <td>964</td>\n",
       "      <td>1255</td>\n",
       "      <td>create_order</td>\n",
       "      <td>2022-08-26 00:00:19</td>\n",
       "      <td>2022-08-26</td>\n",
       "      <td>0</td>\n",
       "      <td>2022-08-26 00:00:19</td>\n",
       "      <td>84</td>\n",
       "      <td>мандарины</td>\n",
       "      <td>90.4</td>\n",
       "    </tr>\n",
       "    <tr>\n",
       "      <th>4</th>\n",
       "      <td>965</td>\n",
       "      <td>1256</td>\n",
       "      <td>create_order</td>\n",
       "      <td>2022-08-26 00:02:21</td>\n",
       "      <td>2022-08-26</td>\n",
       "      <td>1</td>\n",
       "      <td>2022-08-26 00:02:21</td>\n",
       "      <td>56</td>\n",
       "      <td>сосиски</td>\n",
       "      <td>150.0</td>\n",
       "    </tr>\n",
       "    <tr>\n",
       "      <th>...</th>\n",
       "      <td>...</td>\n",
       "      <td>...</td>\n",
       "      <td>...</td>\n",
       "      <td>...</td>\n",
       "      <td>...</td>\n",
       "      <td>...</td>\n",
       "      <td>...</td>\n",
       "      <td>...</td>\n",
       "      <td>...</td>\n",
       "      <td>...</td>\n",
       "    </tr>\n",
       "    <tr>\n",
       "      <th>13821</th>\n",
       "      <td>1461</td>\n",
       "      <td>59487</td>\n",
       "      <td>create_order</td>\n",
       "      <td>2022-09-08 23:29:06</td>\n",
       "      <td>2022-09-08</td>\n",
       "      <td>0</td>\n",
       "      <td>2022-09-08 23:29:06</td>\n",
       "      <td>9</td>\n",
       "      <td>чай черный листовой</td>\n",
       "      <td>83.5</td>\n",
       "    </tr>\n",
       "    <tr>\n",
       "      <th>13822</th>\n",
       "      <td>1461</td>\n",
       "      <td>59487</td>\n",
       "      <td>create_order</td>\n",
       "      <td>2022-09-08 23:29:06</td>\n",
       "      <td>2022-09-08</td>\n",
       "      <td>0</td>\n",
       "      <td>2022-09-08 23:29:06</td>\n",
       "      <td>62</td>\n",
       "      <td>сок яблочный</td>\n",
       "      <td>120.0</td>\n",
       "    </tr>\n",
       "    <tr>\n",
       "      <th>13823</th>\n",
       "      <td>1461</td>\n",
       "      <td>59487</td>\n",
       "      <td>create_order</td>\n",
       "      <td>2022-09-08 23:29:06</td>\n",
       "      <td>2022-09-08</td>\n",
       "      <td>0</td>\n",
       "      <td>2022-09-08 23:29:06</td>\n",
       "      <td>77</td>\n",
       "      <td>курица</td>\n",
       "      <td>298.4</td>\n",
       "    </tr>\n",
       "    <tr>\n",
       "      <th>13824</th>\n",
       "      <td>1376</td>\n",
       "      <td>59533</td>\n",
       "      <td>create_order</td>\n",
       "      <td>2022-09-08 23:41:24</td>\n",
       "      <td>2022-09-08</td>\n",
       "      <td>0</td>\n",
       "      <td>2022-09-08 23:41:24</td>\n",
       "      <td>17</td>\n",
       "      <td>морс брусничный</td>\n",
       "      <td>190.0</td>\n",
       "    </tr>\n",
       "    <tr>\n",
       "      <th>13825</th>\n",
       "      <td>1376</td>\n",
       "      <td>59533</td>\n",
       "      <td>create_order</td>\n",
       "      <td>2022-09-08 23:41:24</td>\n",
       "      <td>2022-09-08</td>\n",
       "      <td>0</td>\n",
       "      <td>2022-09-08 23:41:24</td>\n",
       "      <td>85</td>\n",
       "      <td>варенье</td>\n",
       "      <td>200.3</td>\n",
       "    </tr>\n",
       "  </tbody>\n",
       "</table>\n",
       "<p>13826 rows × 10 columns</p>\n",
       "</div>"
      ],
      "text/plain": [
       "       user_id  order_id        action                time       date  group  \\\n",
       "0          964      1255  create_order 2022-08-26 00:00:19 2022-08-26      0   \n",
       "1          964      1255  create_order 2022-08-26 00:00:19 2022-08-26      0   \n",
       "2          964      1255  create_order 2022-08-26 00:00:19 2022-08-26      0   \n",
       "3          964      1255  create_order 2022-08-26 00:00:19 2022-08-26      0   \n",
       "4          965      1256  create_order 2022-08-26 00:02:21 2022-08-26      1   \n",
       "...        ...       ...           ...                 ...        ...    ...   \n",
       "13821     1461     59487  create_order 2022-09-08 23:29:06 2022-09-08      0   \n",
       "13822     1461     59487  create_order 2022-09-08 23:29:06 2022-09-08      0   \n",
       "13823     1461     59487  create_order 2022-09-08 23:29:06 2022-09-08      0   \n",
       "13824     1376     59533  create_order 2022-09-08 23:41:24 2022-09-08      0   \n",
       "13825     1376     59533  create_order 2022-09-08 23:41:24 2022-09-08      0   \n",
       "\n",
       "            creation_time product_id                 name  price  \n",
       "0     2022-08-26 00:00:19         75       сок ананасовый  120.0  \n",
       "1     2022-08-26 00:00:19         22      сок мультифрукт  120.0  \n",
       "2     2022-08-26 00:00:19         53                 мука   78.3  \n",
       "3     2022-08-26 00:00:19         84            мандарины   90.4  \n",
       "4     2022-08-26 00:02:21         56              сосиски  150.0  \n",
       "...                   ...        ...                  ...    ...  \n",
       "13821 2022-09-08 23:29:06          9  чай черный листовой   83.5  \n",
       "13822 2022-09-08 23:29:06         62         сок яблочный  120.0  \n",
       "13823 2022-09-08 23:29:06         77               курица  298.4  \n",
       "13824 2022-09-08 23:41:24         17      морс брусничный  190.0  \n",
       "13825 2022-09-08 23:41:24         85              варенье  200.3  \n",
       "\n",
       "[13826 rows x 10 columns]"
      ]
     },
     "execution_count": 110,
     "metadata": {},
     "output_type": "execute_result"
    }
   ],
   "source": [
    "accepted_orders_info"
   ]
  },
  {
   "cell_type": "code",
   "execution_count": 111,
   "metadata": {},
   "outputs": [],
   "source": [
    "orders_value_by_date = pd.DataFrame()\n",
    "stats_results = pd.DataFrame()"
   ]
  },
  {
   "cell_type": "code",
   "execution_count": 112,
   "metadata": {},
   "outputs": [],
   "source": [
    "for day in accepted_orders_info.date.unique():\n",
    "    \n",
    "    orders_value = accepted_orders_info[accepted_orders_info.date == day].pivot_table(index = 'order_id', columns = 'group', values = 'price', aggfunc = 'sum')\n",
    "    orders_value_by_date = orders_value_by_date.append(orders_value)\n",
    "    \n",
    "    fit = stats.mannwhitneyu(orders_value_by_date[0].dropna(),\n",
    "                             orders_value_by_date[1].dropna())\n",
    "    \n",
    "    stats_results = stats_results.append(pd.DataFrame({'stat': [fit[0]], 'p': [fit[1]], 'date': day}))"
   ]
  },
  {
   "cell_type": "markdown",
   "metadata": {},
   "source": [
    "*Тут я реализовал цикл, который для каждого дня считатет сумму заказов и записывает их в пустой датафрейм. Затем я использую критерий Манна-Уитни чтобы сравнить эти распределения для всех дней и ниже вывел график зависимости p-value от даты*"
   ]
  },
  {
   "cell_type": "code",
   "execution_count": 113,
   "metadata": {},
   "outputs": [
    {
     "data": {
      "text/plain": [
       "<matplotlib.lines.Line2D at 0x7f7691920ac8>"
      ]
     },
     "execution_count": 113,
     "metadata": {},
     "output_type": "execute_result"
    },
    {
     "data": {
      "image/png": "[encoded data removed]",
      "text/plain": [
       "<Figure size 1152x432 with 1 Axes>"
      ]
     },
     "metadata": {
      "needs_background": "light"
     },
     "output_type": "display_data"
    }
   ],
   "source": [
    "plt.figure(figsize = (16, 6))\n",
    "ax = sns.lineplot(data = stats_results, x = 'date', y = 'p')\n",
    "ax.axhline(0.05, ls='--', color='red')"
   ]
  },
  {
   "cell_type": "markdown",
   "metadata": {},
   "source": [
    "### Вывод:\n",
    "    1. Как было отмечено ранее, новый алгорит не повлиял на средний чек заказа в данном эксперименте\n",
    "    2. Как следствие, сумма заказов тоже не стат. значимо отличается в этих группах.\n",
    "    3. Возможно, продолжительность теста или выборка была недостаточной, так как заметно, что p-value флуктуации достаточно сильные."
   ]
  },
  {
   "cell_type": "markdown",
   "metadata": {},
   "source": [
    "---"
   ]
  },
  {
   "cell_type": "markdown",
   "metadata": {},
   "source": [
    "### Количество Заказов"
   ]
  },
  {
   "cell_type": "markdown",
   "metadata": {},
   "source": [
    "Посмотрим, как менялось количество заказов в двух группах."
   ]
  },
  {
   "cell_type": "markdown",
   "metadata": {},
   "source": [
    "Для анализа я буду использовать только не заказы, которые не отменялись."
   ]
  },
  {
   "cell_type": "code",
   "execution_count": 114,
   "metadata": {},
   "outputs": [
    {
     "data": {
      "text/html": [
       "<div>\n",
       "<style scoped>\n",
       "    .dataframe tbody tr th:only-of-type {\n",
       "        vertical-align: middle;\n",
       "    }\n",
       "\n",
       "    .dataframe tbody tr th {\n",
       "        vertical-align: top;\n",
       "    }\n",
       "\n",
       "    .dataframe thead th {\n",
       "        text-align: right;\n",
       "    }\n",
       "</style>\n",
       "<table border=\"1\" class=\"dataframe\">\n",
       "  <thead>\n",
       "    <tr style=\"text-align: right;\">\n",
       "      <th></th>\n",
       "      <th>user_id</th>\n",
       "      <th>order_id</th>\n",
       "      <th>action</th>\n",
       "      <th>time</th>\n",
       "      <th>date</th>\n",
       "      <th>group</th>\n",
       "      <th>creation_time</th>\n",
       "      <th>product_id</th>\n",
       "      <th>name</th>\n",
       "      <th>price</th>\n",
       "    </tr>\n",
       "  </thead>\n",
       "  <tbody>\n",
       "    <tr>\n",
       "      <th>0</th>\n",
       "      <td>964</td>\n",
       "      <td>1255</td>\n",
       "      <td>create_order</td>\n",
       "      <td>2022-08-26 00:00:19</td>\n",
       "      <td>2022-08-26</td>\n",
       "      <td>0</td>\n",
       "      <td>2022-08-26 00:00:19</td>\n",
       "      <td>75</td>\n",
       "      <td>сок ананасовый</td>\n",
       "      <td>120.0</td>\n",
       "    </tr>\n",
       "    <tr>\n",
       "      <th>1</th>\n",
       "      <td>964</td>\n",
       "      <td>1255</td>\n",
       "      <td>create_order</td>\n",
       "      <td>2022-08-26 00:00:19</td>\n",
       "      <td>2022-08-26</td>\n",
       "      <td>0</td>\n",
       "      <td>2022-08-26 00:00:19</td>\n",
       "      <td>22</td>\n",
       "      <td>сок мультифрукт</td>\n",
       "      <td>120.0</td>\n",
       "    </tr>\n",
       "    <tr>\n",
       "      <th>2</th>\n",
       "      <td>964</td>\n",
       "      <td>1255</td>\n",
       "      <td>create_order</td>\n",
       "      <td>2022-08-26 00:00:19</td>\n",
       "      <td>2022-08-26</td>\n",
       "      <td>0</td>\n",
       "      <td>2022-08-26 00:00:19</td>\n",
       "      <td>53</td>\n",
       "      <td>мука</td>\n",
       "      <td>78.3</td>\n",
       "    </tr>\n",
       "    <tr>\n",
       "      <th>3</th>\n",
       "      <td>964</td>\n",
       "      <td>1255</td>\n",
       "      <td>create_order</td>\n",
       "      <td>2022-08-26 00:00:19</td>\n",
       "      <td>2022-08-26</td>\n",
       "      <td>0</td>\n",
       "      <td>2022-08-26 00:00:19</td>\n",
       "      <td>84</td>\n",
       "      <td>мандарины</td>\n",
       "      <td>90.4</td>\n",
       "    </tr>\n",
       "    <tr>\n",
       "      <th>4</th>\n",
       "      <td>965</td>\n",
       "      <td>1256</td>\n",
       "      <td>create_order</td>\n",
       "      <td>2022-08-26 00:02:21</td>\n",
       "      <td>2022-08-26</td>\n",
       "      <td>1</td>\n",
       "      <td>2022-08-26 00:02:21</td>\n",
       "      <td>56</td>\n",
       "      <td>сосиски</td>\n",
       "      <td>150.0</td>\n",
       "    </tr>\n",
       "  </tbody>\n",
       "</table>\n",
       "</div>"
      ],
      "text/plain": [
       "   user_id  order_id        action                time       date  group  \\\n",
       "0      964      1255  create_order 2022-08-26 00:00:19 2022-08-26      0   \n",
       "1      964      1255  create_order 2022-08-26 00:00:19 2022-08-26      0   \n",
       "2      964      1255  create_order 2022-08-26 00:00:19 2022-08-26      0   \n",
       "3      964      1255  create_order 2022-08-26 00:00:19 2022-08-26      0   \n",
       "4      965      1256  create_order 2022-08-26 00:02:21 2022-08-26      1   \n",
       "\n",
       "        creation_time product_id             name  price  \n",
       "0 2022-08-26 00:00:19         75   сок ананасовый  120.0  \n",
       "1 2022-08-26 00:00:19         22  сок мультифрукт  120.0  \n",
       "2 2022-08-26 00:00:19         53             мука   78.3  \n",
       "3 2022-08-26 00:00:19         84        мандарины   90.4  \n",
       "4 2022-08-26 00:02:21         56          сосиски  150.0  "
      ]
     },
     "execution_count": 114,
     "metadata": {},
     "output_type": "execute_result"
    }
   ],
   "source": [
    "accepted_orders_info.head()"
   ]
  },
  {
   "cell_type": "code",
   "execution_count": 115,
   "metadata": {},
   "outputs": [],
   "source": [
    "orders_count = accepted_orders_info \\\n",
    "    .pivot_table(index = 'date', columns = 'group', values = 'order_id', aggfunc = 'nunique') \\\n",
    "    .rename(columns = {0: 'control', 1: 'experimental'})"
   ]
  },
  {
   "cell_type": "code",
   "execution_count": 116,
   "metadata": {},
   "outputs": [
    {
     "data": {
      "text/html": [
       "<div>\n",
       "<style scoped>\n",
       "    .dataframe tbody tr th:only-of-type {\n",
       "        vertical-align: middle;\n",
       "    }\n",
       "\n",
       "    .dataframe tbody tr th {\n",
       "        vertical-align: top;\n",
       "    }\n",
       "\n",
       "    .dataframe thead th {\n",
       "        text-align: right;\n",
       "    }\n",
       "</style>\n",
       "<table border=\"1\" class=\"dataframe\">\n",
       "  <thead>\n",
       "    <tr style=\"text-align: right;\">\n",
       "      <th>group</th>\n",
       "      <th>control</th>\n",
       "      <th>experimental</th>\n",
       "    </tr>\n",
       "    <tr>\n",
       "      <th>date</th>\n",
       "      <th></th>\n",
       "      <th></th>\n",
       "    </tr>\n",
       "  </thead>\n",
       "  <tbody>\n",
       "    <tr>\n",
       "      <th>2022-08-26</th>\n",
       "      <td>628</td>\n",
       "      <td>689</td>\n",
       "    </tr>\n",
       "    <tr>\n",
       "      <th>2022-08-27</th>\n",
       "      <td>112</td>\n",
       "      <td>195</td>\n",
       "    </tr>\n",
       "    <tr>\n",
       "      <th>2022-08-28</th>\n",
       "      <td>92</td>\n",
       "      <td>209</td>\n",
       "    </tr>\n",
       "    <tr>\n",
       "      <th>2022-08-29</th>\n",
       "      <td>112</td>\n",
       "      <td>230</td>\n",
       "    </tr>\n",
       "    <tr>\n",
       "      <th>2022-08-30</th>\n",
       "      <td>98</td>\n",
       "      <td>161</td>\n",
       "    </tr>\n",
       "    <tr>\n",
       "      <th>2022-08-31</th>\n",
       "      <td>67</td>\n",
       "      <td>125</td>\n",
       "    </tr>\n",
       "    <tr>\n",
       "      <th>2022-09-01</th>\n",
       "      <td>76</td>\n",
       "      <td>136</td>\n",
       "    </tr>\n",
       "    <tr>\n",
       "      <th>2022-09-02</th>\n",
       "      <td>77</td>\n",
       "      <td>140</td>\n",
       "    </tr>\n",
       "    <tr>\n",
       "      <th>2022-09-03</th>\n",
       "      <td>66</td>\n",
       "      <td>151</td>\n",
       "    </tr>\n",
       "    <tr>\n",
       "      <th>2022-09-04</th>\n",
       "      <td>87</td>\n",
       "      <td>145</td>\n",
       "    </tr>\n",
       "    <tr>\n",
       "      <th>2022-09-05</th>\n",
       "      <td>46</td>\n",
       "      <td>81</td>\n",
       "    </tr>\n",
       "    <tr>\n",
       "      <th>2022-09-06</th>\n",
       "      <td>51</td>\n",
       "      <td>64</td>\n",
       "    </tr>\n",
       "    <tr>\n",
       "      <th>2022-09-07</th>\n",
       "      <td>54</td>\n",
       "      <td>98</td>\n",
       "    </tr>\n",
       "    <tr>\n",
       "      <th>2022-09-08</th>\n",
       "      <td>43</td>\n",
       "      <td>90</td>\n",
       "    </tr>\n",
       "  </tbody>\n",
       "</table>\n",
       "</div>"
      ],
      "text/plain": [
       "group       control  experimental\n",
       "date                             \n",
       "2022-08-26      628           689\n",
       "2022-08-27      112           195\n",
       "2022-08-28       92           209\n",
       "2022-08-29      112           230\n",
       "2022-08-30       98           161\n",
       "2022-08-31       67           125\n",
       "2022-09-01       76           136\n",
       "2022-09-02       77           140\n",
       "2022-09-03       66           151\n",
       "2022-09-04       87           145\n",
       "2022-09-05       46            81\n",
       "2022-09-06       51            64\n",
       "2022-09-07       54            98\n",
       "2022-09-08       43            90"
      ]
     },
     "execution_count": 116,
     "metadata": {},
     "output_type": "execute_result"
    }
   ],
   "source": [
    "orders_count"
   ]
  },
  {
   "cell_type": "code",
   "execution_count": 117,
   "metadata": {},
   "outputs": [
    {
     "data": {
      "text/plain": [
       "<matplotlib.axes._subplots.AxesSubplot at 0x7f769175aa90>"
      ]
     },
     "execution_count": 117,
     "metadata": {},
     "output_type": "execute_result"
    },
    {
     "data": {
      "image/png": "[encoded data removed]",
      "text/plain": [
       "<Figure size 1152x432 with 1 Axes>"
      ]
     },
     "metadata": {
      "needs_background": "light"
     },
     "output_type": "display_data"
    }
   ],
   "source": [
    "plt.figure(figsize = (16, 6))\n",
    "sns.lineplot(data = orders_count)"
   ]
  },
  {
   "cell_type": "markdown",
   "metadata": {},
   "source": [
    "*Здесь уже ситуация заметнее. Предворительный вывод, что в экспериментальной группе кол-во заказов увеличилось. Проверим*"
   ]
  },
  {
   "cell_type": "code",
   "execution_count": 118,
   "metadata": {},
   "outputs": [
    {
     "data": {
      "text/plain": [
       "<matplotlib.axes._subplots.AxesSubplot at 0x7f76918b7550>"
      ]
     },
     "execution_count": 118,
     "metadata": {},
     "output_type": "execute_result"
    },
    {
     "data": {
      "image/png": "[encoded data removed]",
      "text/plain": [
       "<Figure size 432x288 with 2 Axes>"
      ]
     },
     "metadata": {
      "needs_background": "light"
     },
     "output_type": "display_data"
    }
   ],
   "source": [
    "fig, ax = plt.subplots(1, 2)\n",
    "sns.histplot(orders_count['control'], ax = ax[0])\n",
    "sns.histplot(orders_count['experimental'], ax = ax[1])"
   ]
  },
  {
   "cell_type": "markdown",
   "metadata": {},
   "source": [
    "*Заметно, что характер обоих распределений - ненормальный, также есть заметный выброс. (В день начала эксперимента кол-во заказов больше, чем в остальные дни)*"
   ]
  },
  {
   "cell_type": "markdown",
   "metadata": {},
   "source": [
    "**Для оценки различий буду использовать критерий Манна-Уитни**"
   ]
  },
  {
   "cell_type": "code",
   "execution_count": 155,
   "metadata": {},
   "outputs": [
    {
     "name": "stdout",
     "output_type": "stream",
     "text": [
      "p-value: 0.0033 | Есть основания отклонять нулевую гипотезу\n"
     ]
    }
   ],
   "source": [
    "if stats.mannwhitneyu(orders_count['control'], orders_count['experimental'])[1] < 0.05:\n",
    "    print(f\"p-value: {np.round(stats.mannwhitneyu(orders_count['control'], orders_count['experimental'])[1], 4)} | Есть основания отклонять нулевую гипотезу\")\n",
    "else:\n",
    "    print(f\"p-value: {np.round(stats.mannwhitneyu(orders_count['control'], orders_count['experimental'])[1], 4)} | Нет оснований отклонять нулевую гипотезу\")"
   ]
  },
  {
   "cell_type": "markdown",
   "metadata": {},
   "source": [
    "*p уровень значимости получился равным 0.003, что меньше чем 0.05. Значит есть основание отклонить нулевую гипотезу о равенстве распределений.*"
   ]
  },
  {
   "cell_type": "markdown",
   "metadata": {},
   "source": [
    "### Вывод: новый алгоритм увеличил кол-во заказов, которые делают пользователи."
   ]
  },
  {
   "cell_type": "markdown",
   "metadata": {},
   "source": [
    "**Интересно посмотреть, сколько уникальных заказов совершает пользователи в каждой из групп**"
   ]
  },
  {
   "cell_type": "code",
   "execution_count": 120,
   "metadata": {},
   "outputs": [],
   "source": [
    "orders_per_user = accepted_orders_info \\\n",
    "    .pivot_table(index = 'user_id', columns = 'group', values = 'order_id', aggfunc = 'nunique') \\\n",
    "    .rename(columns = {0: 'control', 1: 'experimental'})"
   ]
  },
  {
   "cell_type": "code",
   "execution_count": 121,
   "metadata": {},
   "outputs": [
    {
     "data": {
      "text/html": [
       "<div>\n",
       "<style scoped>\n",
       "    .dataframe tbody tr th:only-of-type {\n",
       "        vertical-align: middle;\n",
       "    }\n",
       "\n",
       "    .dataframe tbody tr th {\n",
       "        vertical-align: top;\n",
       "    }\n",
       "\n",
       "    .dataframe thead th {\n",
       "        text-align: right;\n",
       "    }\n",
       "</style>\n",
       "<table border=\"1\" class=\"dataframe\">\n",
       "  <thead>\n",
       "    <tr style=\"text-align: right;\">\n",
       "      <th>group</th>\n",
       "      <th>control</th>\n",
       "      <th>experimental</th>\n",
       "    </tr>\n",
       "    <tr>\n",
       "      <th>user_id</th>\n",
       "      <th></th>\n",
       "      <th></th>\n",
       "    </tr>\n",
       "  </thead>\n",
       "  <tbody>\n",
       "    <tr>\n",
       "      <th>964</th>\n",
       "      <td>2.0</td>\n",
       "      <td>NaN</td>\n",
       "    </tr>\n",
       "    <tr>\n",
       "      <th>965</th>\n",
       "      <td>NaN</td>\n",
       "      <td>9.0</td>\n",
       "    </tr>\n",
       "    <tr>\n",
       "      <th>966</th>\n",
       "      <td>1.0</td>\n",
       "      <td>NaN</td>\n",
       "    </tr>\n",
       "    <tr>\n",
       "      <th>967</th>\n",
       "      <td>NaN</td>\n",
       "      <td>5.0</td>\n",
       "    </tr>\n",
       "    <tr>\n",
       "      <th>968</th>\n",
       "      <td>3.0</td>\n",
       "      <td>NaN</td>\n",
       "    </tr>\n",
       "  </tbody>\n",
       "</table>\n",
       "</div>"
      ],
      "text/plain": [
       "group    control  experimental\n",
       "user_id                       \n",
       "964          2.0           NaN\n",
       "965          NaN           9.0\n",
       "966          1.0           NaN\n",
       "967          NaN           5.0\n",
       "968          3.0           NaN"
      ]
     },
     "execution_count": 121,
     "metadata": {},
     "output_type": "execute_result"
    }
   ],
   "source": [
    "orders_per_user.head()"
   ]
  },
  {
   "cell_type": "code",
   "execution_count": 122,
   "metadata": {},
   "outputs": [
    {
     "data": {
      "text/plain": [
       "<matplotlib.axes._subplots.AxesSubplot at 0x7f76915c47b8>"
      ]
     },
     "execution_count": 122,
     "metadata": {},
     "output_type": "execute_result"
    },
    {
     "data": {
      "image/png": "[encoded data removed]",
      "text/plain": [
       "<Figure size 432x288 with 2 Axes>"
      ]
     },
     "metadata": {
      "needs_background": "light"
     },
     "output_type": "display_data"
    }
   ],
   "source": [
    "fig, ax = plt.subplots(1, 2)\n",
    "\n",
    "sns.histplot(orders_per_user['control'], ax = ax[0])\n",
    "sns.histplot(orders_per_user['experimental'], ax = ax[1])"
   ]
  },
  {
   "cell_type": "markdown",
   "metadata": {},
   "source": [
    "*Контрольная группа - видно, что распредение ненормальное; Экспериментальная группа - распределение больше похоже на нормальное*"
   ]
  },
  {
   "cell_type": "code",
   "execution_count": 123,
   "metadata": {},
   "outputs": [
    {
     "data": {
      "text/plain": [
       "NormaltestResult(statistic=168.68174543124155, pvalue=2.350847085591091e-37)"
      ]
     },
     "execution_count": 123,
     "metadata": {},
     "output_type": "execute_result"
    }
   ],
   "source": [
    "stats.normaltest(orders_per_user['control'].dropna())"
   ]
  },
  {
   "cell_type": "code",
   "execution_count": 124,
   "metadata": {},
   "outputs": [
    {
     "data": {
      "text/plain": [
       "NormaltestResult(statistic=21.897130007276793, pvalue=1.7583229075690624e-05)"
      ]
     },
     "execution_count": 124,
     "metadata": {},
     "output_type": "execute_result"
    }
   ],
   "source": [
    "stats.normaltest(orders_per_user['experimental'].dropna())"
   ]
  },
  {
   "cell_type": "markdown",
   "metadata": {},
   "source": [
    "*Делаем вывод, что нулевую гипотезу, о нормальности распределения, отклоняем. Значит, воспользуюсь критерием Манна-Уитни для того, чтобы найти различия в этих группах*"
   ]
  },
  {
   "cell_type": "code",
   "execution_count": 125,
   "metadata": {},
   "outputs": [
    {
     "data": {
      "text/plain": [
       "MannwhitneyuResult(statistic=61172.5, pvalue=6.987139829766148e-49)"
      ]
     },
     "execution_count": 125,
     "metadata": {},
     "output_type": "execute_result"
    }
   ],
   "source": [
    "stats.mannwhitneyu(orders_per_user['control'].dropna(),\n",
    "                   orders_per_user['experimental'].dropna())"
   ]
  },
  {
   "cell_type": "markdown",
   "metadata": {},
   "source": [
    "*p-value получился меньше чем 0.05, значит две группы стат. значимо различаются. Что еще раз подверждает гипотезу о том, что в экспериментальной группе делают больше заказов*"
   ]
  },
  {
   "cell_type": "markdown",
   "metadata": {},
   "source": [
    "**Можно посмотреть как изменяется p-value по дате эксперимента**"
   ]
  },
  {
   "cell_type": "code",
   "execution_count": 126,
   "metadata": {},
   "outputs": [],
   "source": [
    "orders_num_by_date = pd.DataFrame()\n",
    "stats_results = pd.DataFrame()"
   ]
  },
  {
   "cell_type": "code",
   "execution_count": 127,
   "metadata": {},
   "outputs": [],
   "source": [
    "for day in accepted_orders_info.date.unique():\n",
    "    \n",
    "    order_num = accepted_orders_info[accepted_orders_info.date == day].pivot_table(index = 'user_id', columns = 'group', values = 'order_id', aggfunc = 'nunique')\n",
    "    orders_num_by_date = orders_num_by_date.append(order_num)\n",
    "    \n",
    "    fit = stats.mannwhitneyu(orders_num_by_date[0].dropna(),\n",
    "                             orders_num_by_date[1].dropna())\n",
    "    \n",
    "    stats_results = stats_results.append(pd.DataFrame({'stat': [fit[0]], 'p': [fit[1]], 'date': day}))"
   ]
  },
  {
   "cell_type": "code",
   "execution_count": 128,
   "metadata": {},
   "outputs": [
    {
     "data": {
      "text/plain": [
       "<matplotlib.lines.Line2D at 0x7f7652b66e10>"
      ]
     },
     "execution_count": 128,
     "metadata": {},
     "output_type": "execute_result"
    },
    {
     "data": {
      "image/png": "[encoded data removed]",
      "text/plain": [
       "<Figure size 1152x432 with 1 Axes>"
      ]
     },
     "metadata": {
      "needs_background": "light"
     },
     "output_type": "display_data"
    }
   ],
   "source": [
    "plt.figure(figsize = (16, 6))\n",
    "ax = sns.lineplot(data = stats_results, x = 'date', y = 'p')\n",
    "ax.axhline(0.05, ls='--', color='red')"
   ]
  },
  {
   "cell_type": "markdown",
   "metadata": {},
   "source": [
    "### Вывод:\n",
    "    1. С новым алгоритмом кол-во заказов увеличилось у пользователей увеличилось и эти различия стат. значимы."
   ]
  },
  {
   "cell_type": "markdown",
   "metadata": {},
   "source": [
    "---"
   ]
  },
  {
   "cell_type": "markdown",
   "metadata": {},
   "source": [
    "### Retention Rate"
   ]
  },
  {
   "cell_type": "markdown",
   "metadata": {},
   "source": [
    "Алгоритм действий:\n",
    "    1. Разделить пользователей на 2 группы и отдельно работать с ними\n",
    "    2. Для каждого пользователя найти дату первого заказа - это и будет нашей когортой\n",
    "    3. Посчитать максимальное число пользователей в каждой когорте, для того, чтобы найти отношение пользователей\n",
    "    4. Найти разницу между датой и первой датой заказа, для более удобного представления"
   ]
  },
  {
   "cell_type": "markdown",
   "metadata": {},
   "source": [
    "*Контрольная группа - без алгоритма*"
   ]
  },
  {
   "cell_type": "code",
   "execution_count": 129,
   "metadata": {},
   "outputs": [
    {
     "data": {
      "text/html": [
       "<div>\n",
       "<style scoped>\n",
       "    .dataframe tbody tr th:only-of-type {\n",
       "        vertical-align: middle;\n",
       "    }\n",
       "\n",
       "    .dataframe tbody tr th {\n",
       "        vertical-align: top;\n",
       "    }\n",
       "\n",
       "    .dataframe thead th {\n",
       "        text-align: right;\n",
       "    }\n",
       "</style>\n",
       "<table border=\"1\" class=\"dataframe\">\n",
       "  <thead>\n",
       "    <tr style=\"text-align: right;\">\n",
       "      <th></th>\n",
       "      <th>user_id</th>\n",
       "      <th>order_id</th>\n",
       "      <th>action</th>\n",
       "      <th>time</th>\n",
       "      <th>date</th>\n",
       "      <th>group</th>\n",
       "      <th>creation_time</th>\n",
       "      <th>product_id</th>\n",
       "      <th>name</th>\n",
       "      <th>price</th>\n",
       "    </tr>\n",
       "  </thead>\n",
       "  <tbody>\n",
       "    <tr>\n",
       "      <th>0</th>\n",
       "      <td>964</td>\n",
       "      <td>1255</td>\n",
       "      <td>create_order</td>\n",
       "      <td>2022-08-26 00:00:19</td>\n",
       "      <td>2022-08-26</td>\n",
       "      <td>0</td>\n",
       "      <td>2022-08-26 00:00:19</td>\n",
       "      <td>75</td>\n",
       "      <td>сок ананасовый</td>\n",
       "      <td>120.0</td>\n",
       "    </tr>\n",
       "    <tr>\n",
       "      <th>1</th>\n",
       "      <td>964</td>\n",
       "      <td>1255</td>\n",
       "      <td>create_order</td>\n",
       "      <td>2022-08-26 00:00:19</td>\n",
       "      <td>2022-08-26</td>\n",
       "      <td>0</td>\n",
       "      <td>2022-08-26 00:00:19</td>\n",
       "      <td>22</td>\n",
       "      <td>сок мультифрукт</td>\n",
       "      <td>120.0</td>\n",
       "    </tr>\n",
       "    <tr>\n",
       "      <th>2</th>\n",
       "      <td>964</td>\n",
       "      <td>1255</td>\n",
       "      <td>create_order</td>\n",
       "      <td>2022-08-26 00:00:19</td>\n",
       "      <td>2022-08-26</td>\n",
       "      <td>0</td>\n",
       "      <td>2022-08-26 00:00:19</td>\n",
       "      <td>53</td>\n",
       "      <td>мука</td>\n",
       "      <td>78.3</td>\n",
       "    </tr>\n",
       "    <tr>\n",
       "      <th>3</th>\n",
       "      <td>964</td>\n",
       "      <td>1255</td>\n",
       "      <td>create_order</td>\n",
       "      <td>2022-08-26 00:00:19</td>\n",
       "      <td>2022-08-26</td>\n",
       "      <td>0</td>\n",
       "      <td>2022-08-26 00:00:19</td>\n",
       "      <td>84</td>\n",
       "      <td>мандарины</td>\n",
       "      <td>90.4</td>\n",
       "    </tr>\n",
       "    <tr>\n",
       "      <th>4</th>\n",
       "      <td>965</td>\n",
       "      <td>1256</td>\n",
       "      <td>create_order</td>\n",
       "      <td>2022-08-26 00:02:21</td>\n",
       "      <td>2022-08-26</td>\n",
       "      <td>1</td>\n",
       "      <td>2022-08-26 00:02:21</td>\n",
       "      <td>56</td>\n",
       "      <td>сосиски</td>\n",
       "      <td>150.0</td>\n",
       "    </tr>\n",
       "  </tbody>\n",
       "</table>\n",
       "</div>"
      ],
      "text/plain": [
       "   user_id  order_id        action                time       date  group  \\\n",
       "0      964      1255  create_order 2022-08-26 00:00:19 2022-08-26      0   \n",
       "1      964      1255  create_order 2022-08-26 00:00:19 2022-08-26      0   \n",
       "2      964      1255  create_order 2022-08-26 00:00:19 2022-08-26      0   \n",
       "3      964      1255  create_order 2022-08-26 00:00:19 2022-08-26      0   \n",
       "4      965      1256  create_order 2022-08-26 00:02:21 2022-08-26      1   \n",
       "\n",
       "        creation_time product_id             name  price  \n",
       "0 2022-08-26 00:00:19         75   сок ананасовый  120.0  \n",
       "1 2022-08-26 00:00:19         22  сок мультифрукт  120.0  \n",
       "2 2022-08-26 00:00:19         53             мука   78.3  \n",
       "3 2022-08-26 00:00:19         84        мандарины   90.4  \n",
       "4 2022-08-26 00:02:21         56          сосиски  150.0  "
      ]
     },
     "execution_count": 129,
     "metadata": {},
     "output_type": "execute_result"
    }
   ],
   "source": [
    "accepted_orders_info.head()"
   ]
  },
  {
   "cell_type": "code",
   "execution_count": 130,
   "metadata": {},
   "outputs": [],
   "source": [
    "first_orders_control = accepted_orders_info.query('group == 0')[['user_id', 'date']]"
   ]
  },
  {
   "cell_type": "code",
   "execution_count": 131,
   "metadata": {},
   "outputs": [],
   "source": [
    "first_orders_control['first_order_date'] = first_orders_control.groupby('user_id')['date'].transform(min)"
   ]
  },
  {
   "cell_type": "code",
   "execution_count": 132,
   "metadata": {},
   "outputs": [
    {
     "data": {
      "text/html": [
       "<div>\n",
       "<style scoped>\n",
       "    .dataframe tbody tr th:only-of-type {\n",
       "        vertical-align: middle;\n",
       "    }\n",
       "\n",
       "    .dataframe tbody tr th {\n",
       "        vertical-align: top;\n",
       "    }\n",
       "\n",
       "    .dataframe thead th {\n",
       "        text-align: right;\n",
       "    }\n",
       "</style>\n",
       "<table border=\"1\" class=\"dataframe\">\n",
       "  <thead>\n",
       "    <tr style=\"text-align: right;\">\n",
       "      <th></th>\n",
       "      <th>user_id</th>\n",
       "      <th>date</th>\n",
       "      <th>first_order_date</th>\n",
       "    </tr>\n",
       "  </thead>\n",
       "  <tbody>\n",
       "    <tr>\n",
       "      <th>0</th>\n",
       "      <td>964</td>\n",
       "      <td>2022-08-26</td>\n",
       "      <td>2022-08-26</td>\n",
       "    </tr>\n",
       "    <tr>\n",
       "      <th>1</th>\n",
       "      <td>964</td>\n",
       "      <td>2022-08-26</td>\n",
       "      <td>2022-08-26</td>\n",
       "    </tr>\n",
       "    <tr>\n",
       "      <th>2</th>\n",
       "      <td>964</td>\n",
       "      <td>2022-08-26</td>\n",
       "      <td>2022-08-26</td>\n",
       "    </tr>\n",
       "    <tr>\n",
       "      <th>3</th>\n",
       "      <td>964</td>\n",
       "      <td>2022-08-26</td>\n",
       "      <td>2022-08-26</td>\n",
       "    </tr>\n",
       "    <tr>\n",
       "      <th>7</th>\n",
       "      <td>964</td>\n",
       "      <td>2022-08-26</td>\n",
       "      <td>2022-08-26</td>\n",
       "    </tr>\n",
       "  </tbody>\n",
       "</table>\n",
       "</div>"
      ],
      "text/plain": [
       "   user_id       date first_order_date\n",
       "0      964 2022-08-26       2022-08-26\n",
       "1      964 2022-08-26       2022-08-26\n",
       "2      964 2022-08-26       2022-08-26\n",
       "3      964 2022-08-26       2022-08-26\n",
       "7      964 2022-08-26       2022-08-26"
      ]
     },
     "execution_count": 132,
     "metadata": {},
     "output_type": "execute_result"
    }
   ],
   "source": [
    "first_orders_control.head()"
   ]
  },
  {
   "cell_type": "code",
   "execution_count": 133,
   "metadata": {},
   "outputs": [],
   "source": [
    "retention_rate_control = first_orders_control \\\n",
    "    .groupby(['first_order_date', 'date'], as_index = False) \\\n",
    "    .agg({'user_id': 'nunique'}) \\\n",
    "    .rename(columns = {'user_id': 'users_count'})\n",
    "\n",
    "retention_rate_control['max_users'] = retention_rate_control.groupby('first_order_date')['users_count'].transform(max)\n",
    "\n",
    "retention_rate_control = retention_rate_control.assign(users_share = retention_rate_control.users_count / retention_rate_control.max_users)\n",
    "\n",
    "retention_rate_control['days_diff'] = (retention_rate_control.date - retention_rate_control.first_order_date).dt.days"
   ]
  },
  {
   "cell_type": "code",
   "execution_count": 134,
   "metadata": {},
   "outputs": [
    {
     "data": {
      "text/html": [
       "<div>\n",
       "<style scoped>\n",
       "    .dataframe tbody tr th:only-of-type {\n",
       "        vertical-align: middle;\n",
       "    }\n",
       "\n",
       "    .dataframe tbody tr th {\n",
       "        vertical-align: top;\n",
       "    }\n",
       "\n",
       "    .dataframe thead th {\n",
       "        text-align: right;\n",
       "    }\n",
       "</style>\n",
       "<table border=\"1\" class=\"dataframe\">\n",
       "  <thead>\n",
       "    <tr style=\"text-align: right;\">\n",
       "      <th></th>\n",
       "      <th>first_order_date</th>\n",
       "      <th>date</th>\n",
       "      <th>users_count</th>\n",
       "      <th>max_users</th>\n",
       "      <th>users_share</th>\n",
       "      <th>days_diff</th>\n",
       "    </tr>\n",
       "  </thead>\n",
       "  <tbody>\n",
       "    <tr>\n",
       "      <th>0</th>\n",
       "      <td>2022-08-26</td>\n",
       "      <td>2022-08-26</td>\n",
       "      <td>515</td>\n",
       "      <td>515</td>\n",
       "      <td>1.000000</td>\n",
       "      <td>0</td>\n",
       "    </tr>\n",
       "    <tr>\n",
       "      <th>1</th>\n",
       "      <td>2022-08-26</td>\n",
       "      <td>2022-08-27</td>\n",
       "      <td>86</td>\n",
       "      <td>515</td>\n",
       "      <td>0.166990</td>\n",
       "      <td>1</td>\n",
       "    </tr>\n",
       "    <tr>\n",
       "      <th>2</th>\n",
       "      <td>2022-08-26</td>\n",
       "      <td>2022-08-28</td>\n",
       "      <td>71</td>\n",
       "      <td>515</td>\n",
       "      <td>0.137864</td>\n",
       "      <td>2</td>\n",
       "    </tr>\n",
       "    <tr>\n",
       "      <th>3</th>\n",
       "      <td>2022-08-26</td>\n",
       "      <td>2022-08-29</td>\n",
       "      <td>87</td>\n",
       "      <td>515</td>\n",
       "      <td>0.168932</td>\n",
       "      <td>3</td>\n",
       "    </tr>\n",
       "    <tr>\n",
       "      <th>4</th>\n",
       "      <td>2022-08-26</td>\n",
       "      <td>2022-08-30</td>\n",
       "      <td>74</td>\n",
       "      <td>515</td>\n",
       "      <td>0.143689</td>\n",
       "      <td>4</td>\n",
       "    </tr>\n",
       "    <tr>\n",
       "      <th>5</th>\n",
       "      <td>2022-08-26</td>\n",
       "      <td>2022-08-31</td>\n",
       "      <td>56</td>\n",
       "      <td>515</td>\n",
       "      <td>0.108738</td>\n",
       "      <td>5</td>\n",
       "    </tr>\n",
       "    <tr>\n",
       "      <th>6</th>\n",
       "      <td>2022-08-26</td>\n",
       "      <td>2022-09-01</td>\n",
       "      <td>60</td>\n",
       "      <td>515</td>\n",
       "      <td>0.116505</td>\n",
       "      <td>6</td>\n",
       "    </tr>\n",
       "    <tr>\n",
       "      <th>7</th>\n",
       "      <td>2022-08-26</td>\n",
       "      <td>2022-09-02</td>\n",
       "      <td>54</td>\n",
       "      <td>515</td>\n",
       "      <td>0.104854</td>\n",
       "      <td>7</td>\n",
       "    </tr>\n",
       "    <tr>\n",
       "      <th>8</th>\n",
       "      <td>2022-08-26</td>\n",
       "      <td>2022-09-03</td>\n",
       "      <td>50</td>\n",
       "      <td>515</td>\n",
       "      <td>0.097087</td>\n",
       "      <td>8</td>\n",
       "    </tr>\n",
       "    <tr>\n",
       "      <th>9</th>\n",
       "      <td>2022-08-26</td>\n",
       "      <td>2022-09-04</td>\n",
       "      <td>63</td>\n",
       "      <td>515</td>\n",
       "      <td>0.122330</td>\n",
       "      <td>9</td>\n",
       "    </tr>\n",
       "    <tr>\n",
       "      <th>10</th>\n",
       "      <td>2022-08-26</td>\n",
       "      <td>2022-09-05</td>\n",
       "      <td>35</td>\n",
       "      <td>515</td>\n",
       "      <td>0.067961</td>\n",
       "      <td>10</td>\n",
       "    </tr>\n",
       "    <tr>\n",
       "      <th>11</th>\n",
       "      <td>2022-08-26</td>\n",
       "      <td>2022-09-06</td>\n",
       "      <td>36</td>\n",
       "      <td>515</td>\n",
       "      <td>0.069903</td>\n",
       "      <td>11</td>\n",
       "    </tr>\n",
       "    <tr>\n",
       "      <th>12</th>\n",
       "      <td>2022-08-26</td>\n",
       "      <td>2022-09-07</td>\n",
       "      <td>40</td>\n",
       "      <td>515</td>\n",
       "      <td>0.077670</td>\n",
       "      <td>12</td>\n",
       "    </tr>\n",
       "    <tr>\n",
       "      <th>13</th>\n",
       "      <td>2022-08-26</td>\n",
       "      <td>2022-09-08</td>\n",
       "      <td>38</td>\n",
       "      <td>515</td>\n",
       "      <td>0.073786</td>\n",
       "      <td>13</td>\n",
       "    </tr>\n",
       "  </tbody>\n",
       "</table>\n",
       "</div>"
      ],
      "text/plain": [
       "   first_order_date       date  users_count  max_users  users_share  days_diff\n",
       "0        2022-08-26 2022-08-26          515        515     1.000000          0\n",
       "1        2022-08-26 2022-08-27           86        515     0.166990          1\n",
       "2        2022-08-26 2022-08-28           71        515     0.137864          2\n",
       "3        2022-08-26 2022-08-29           87        515     0.168932          3\n",
       "4        2022-08-26 2022-08-30           74        515     0.143689          4\n",
       "5        2022-08-26 2022-08-31           56        515     0.108738          5\n",
       "6        2022-08-26 2022-09-01           60        515     0.116505          6\n",
       "7        2022-08-26 2022-09-02           54        515     0.104854          7\n",
       "8        2022-08-26 2022-09-03           50        515     0.097087          8\n",
       "9        2022-08-26 2022-09-04           63        515     0.122330          9\n",
       "10       2022-08-26 2022-09-05           35        515     0.067961         10\n",
       "11       2022-08-26 2022-09-06           36        515     0.069903         11\n",
       "12       2022-08-26 2022-09-07           40        515     0.077670         12\n",
       "13       2022-08-26 2022-09-08           38        515     0.073786         13"
      ]
     },
     "execution_count": 134,
     "metadata": {},
     "output_type": "execute_result"
    }
   ],
   "source": [
    "retention_rate_control"
   ]
  },
  {
   "cell_type": "markdown",
   "metadata": {},
   "source": [
    "*Видно, что в данных только одна когорта пользователей, который совершили свой первый заказ 2022-08-26*"
   ]
  },
  {
   "cell_type": "code",
   "execution_count": 135,
   "metadata": {},
   "outputs": [
    {
     "data": {
      "text/plain": [
       "<matplotlib.axes._subplots.AxesSubplot at 0x7f7652a79ef0>"
      ]
     },
     "execution_count": 135,
     "metadata": {},
     "output_type": "execute_result"
    },
    {
     "data": {
      "image/png": "[encoded data removed]",
      "text/plain": [
       "<Figure size 1008x432 with 1 Axes>"
      ]
     },
     "metadata": {
      "needs_background": "light"
     },
     "output_type": "display_data"
    }
   ],
   "source": [
    "plt.figure(figsize = (14, 6))\n",
    "sns.lineplot(data = retention_rate_control, x = 'days_diff', y = 'users_share')"
   ]
  },
  {
   "cell_type": "markdown",
   "metadata": {},
   "source": [
    "*Экспериментальная группа - с новым алгоритмом*"
   ]
  },
  {
   "cell_type": "code",
   "execution_count": 136,
   "metadata": {},
   "outputs": [],
   "source": [
    "first_orders_experimental = accepted_orders_info.query('group == 1')[['user_id', 'date']]"
   ]
  },
  {
   "cell_type": "code",
   "execution_count": 137,
   "metadata": {},
   "outputs": [
    {
     "data": {
      "text/html": [
       "<div>\n",
       "<style scoped>\n",
       "    .dataframe tbody tr th:only-of-type {\n",
       "        vertical-align: middle;\n",
       "    }\n",
       "\n",
       "    .dataframe tbody tr th {\n",
       "        vertical-align: top;\n",
       "    }\n",
       "\n",
       "    .dataframe thead th {\n",
       "        text-align: right;\n",
       "    }\n",
       "</style>\n",
       "<table border=\"1\" class=\"dataframe\">\n",
       "  <thead>\n",
       "    <tr style=\"text-align: right;\">\n",
       "      <th></th>\n",
       "      <th>user_id</th>\n",
       "      <th>date</th>\n",
       "    </tr>\n",
       "  </thead>\n",
       "  <tbody>\n",
       "    <tr>\n",
       "      <th>4</th>\n",
       "      <td>965</td>\n",
       "      <td>2022-08-26</td>\n",
       "    </tr>\n",
       "    <tr>\n",
       "      <th>5</th>\n",
       "      <td>965</td>\n",
       "      <td>2022-08-26</td>\n",
       "    </tr>\n",
       "    <tr>\n",
       "      <th>6</th>\n",
       "      <td>965</td>\n",
       "      <td>2022-08-26</td>\n",
       "    </tr>\n",
       "    <tr>\n",
       "      <th>13</th>\n",
       "      <td>967</td>\n",
       "      <td>2022-08-26</td>\n",
       "    </tr>\n",
       "    <tr>\n",
       "      <th>14</th>\n",
       "      <td>967</td>\n",
       "      <td>2022-08-26</td>\n",
       "    </tr>\n",
       "  </tbody>\n",
       "</table>\n",
       "</div>"
      ],
      "text/plain": [
       "    user_id       date\n",
       "4       965 2022-08-26\n",
       "5       965 2022-08-26\n",
       "6       965 2022-08-26\n",
       "13      967 2022-08-26\n",
       "14      967 2022-08-26"
      ]
     },
     "execution_count": 137,
     "metadata": {},
     "output_type": "execute_result"
    }
   ],
   "source": [
    "first_orders_experimental.head()"
   ]
  },
  {
   "cell_type": "code",
   "execution_count": 138,
   "metadata": {},
   "outputs": [],
   "source": [
    "first_orders_experimental['first_order_date'] = first_orders_experimental.groupby('user_id')['date'].transform(min)"
   ]
  },
  {
   "cell_type": "code",
   "execution_count": 139,
   "metadata": {},
   "outputs": [
    {
     "data": {
      "text/html": [
       "<div>\n",
       "<style scoped>\n",
       "    .dataframe tbody tr th:only-of-type {\n",
       "        vertical-align: middle;\n",
       "    }\n",
       "\n",
       "    .dataframe tbody tr th {\n",
       "        vertical-align: top;\n",
       "    }\n",
       "\n",
       "    .dataframe thead th {\n",
       "        text-align: right;\n",
       "    }\n",
       "</style>\n",
       "<table border=\"1\" class=\"dataframe\">\n",
       "  <thead>\n",
       "    <tr style=\"text-align: right;\">\n",
       "      <th></th>\n",
       "      <th>user_id</th>\n",
       "      <th>date</th>\n",
       "      <th>first_order_date</th>\n",
       "    </tr>\n",
       "  </thead>\n",
       "  <tbody>\n",
       "    <tr>\n",
       "      <th>4</th>\n",
       "      <td>965</td>\n",
       "      <td>2022-08-26</td>\n",
       "      <td>2022-08-26</td>\n",
       "    </tr>\n",
       "    <tr>\n",
       "      <th>5</th>\n",
       "      <td>965</td>\n",
       "      <td>2022-08-26</td>\n",
       "      <td>2022-08-26</td>\n",
       "    </tr>\n",
       "    <tr>\n",
       "      <th>6</th>\n",
       "      <td>965</td>\n",
       "      <td>2022-08-26</td>\n",
       "      <td>2022-08-26</td>\n",
       "    </tr>\n",
       "    <tr>\n",
       "      <th>13</th>\n",
       "      <td>967</td>\n",
       "      <td>2022-08-26</td>\n",
       "      <td>2022-08-26</td>\n",
       "    </tr>\n",
       "    <tr>\n",
       "      <th>14</th>\n",
       "      <td>967</td>\n",
       "      <td>2022-08-26</td>\n",
       "      <td>2022-08-26</td>\n",
       "    </tr>\n",
       "  </tbody>\n",
       "</table>\n",
       "</div>"
      ],
      "text/plain": [
       "    user_id       date first_order_date\n",
       "4       965 2022-08-26       2022-08-26\n",
       "5       965 2022-08-26       2022-08-26\n",
       "6       965 2022-08-26       2022-08-26\n",
       "13      967 2022-08-26       2022-08-26\n",
       "14      967 2022-08-26       2022-08-26"
      ]
     },
     "execution_count": 139,
     "metadata": {},
     "output_type": "execute_result"
    }
   ],
   "source": [
    "first_orders_experimental.head()"
   ]
  },
  {
   "cell_type": "code",
   "execution_count": 140,
   "metadata": {},
   "outputs": [],
   "source": [
    "retention_rate_experimental = first_orders_experimental \\\n",
    "    .groupby(['first_order_date', 'date'], as_index = False) \\\n",
    "    .agg({'user_id': 'nunique'}) \\\n",
    "    .rename(columns = {'user_id': 'users_count'})\n",
    "\n",
    "retention_rate_experimental['max_users'] = retention_rate_experimental.groupby('first_order_date')['users_count'].transform(max)\n",
    "\n",
    "retention_rate_experimental = retention_rate_experimental.assign(users_share = retention_rate_experimental.users_count / retention_rate_experimental.max_users)\n",
    "\n",
    "retention_rate_experimental['days_diff'] = (retention_rate_experimental.date - retention_rate_experimental.first_order_date).dt.days"
   ]
  },
  {
   "cell_type": "code",
   "execution_count": 141,
   "metadata": {},
   "outputs": [
    {
     "data": {
      "text/html": [
       "<div>\n",
       "<style scoped>\n",
       "    .dataframe tbody tr th:only-of-type {\n",
       "        vertical-align: middle;\n",
       "    }\n",
       "\n",
       "    .dataframe tbody tr th {\n",
       "        vertical-align: top;\n",
       "    }\n",
       "\n",
       "    .dataframe thead th {\n",
       "        text-align: right;\n",
       "    }\n",
       "</style>\n",
       "<table border=\"1\" class=\"dataframe\">\n",
       "  <thead>\n",
       "    <tr style=\"text-align: right;\">\n",
       "      <th></th>\n",
       "      <th>first_order_date</th>\n",
       "      <th>date</th>\n",
       "      <th>users_count</th>\n",
       "      <th>max_users</th>\n",
       "      <th>users_share</th>\n",
       "      <th>days_diff</th>\n",
       "    </tr>\n",
       "  </thead>\n",
       "  <tbody>\n",
       "    <tr>\n",
       "      <th>0</th>\n",
       "      <td>2022-08-26</td>\n",
       "      <td>2022-08-26</td>\n",
       "      <td>502</td>\n",
       "      <td>502</td>\n",
       "      <td>1.000000</td>\n",
       "      <td>0</td>\n",
       "    </tr>\n",
       "    <tr>\n",
       "      <th>1</th>\n",
       "      <td>2022-08-26</td>\n",
       "      <td>2022-08-27</td>\n",
       "      <td>133</td>\n",
       "      <td>502</td>\n",
       "      <td>0.264940</td>\n",
       "      <td>1</td>\n",
       "    </tr>\n",
       "    <tr>\n",
       "      <th>2</th>\n",
       "      <td>2022-08-26</td>\n",
       "      <td>2022-08-28</td>\n",
       "      <td>134</td>\n",
       "      <td>502</td>\n",
       "      <td>0.266932</td>\n",
       "      <td>2</td>\n",
       "    </tr>\n",
       "    <tr>\n",
       "      <th>3</th>\n",
       "      <td>2022-08-26</td>\n",
       "      <td>2022-08-29</td>\n",
       "      <td>136</td>\n",
       "      <td>502</td>\n",
       "      <td>0.270916</td>\n",
       "      <td>3</td>\n",
       "    </tr>\n",
       "    <tr>\n",
       "      <th>4</th>\n",
       "      <td>2022-08-26</td>\n",
       "      <td>2022-08-30</td>\n",
       "      <td>99</td>\n",
       "      <td>502</td>\n",
       "      <td>0.197211</td>\n",
       "      <td>4</td>\n",
       "    </tr>\n",
       "    <tr>\n",
       "      <th>5</th>\n",
       "      <td>2022-08-26</td>\n",
       "      <td>2022-08-31</td>\n",
       "      <td>92</td>\n",
       "      <td>502</td>\n",
       "      <td>0.183267</td>\n",
       "      <td>5</td>\n",
       "    </tr>\n",
       "    <tr>\n",
       "      <th>6</th>\n",
       "      <td>2022-08-26</td>\n",
       "      <td>2022-09-01</td>\n",
       "      <td>88</td>\n",
       "      <td>502</td>\n",
       "      <td>0.175299</td>\n",
       "      <td>6</td>\n",
       "    </tr>\n",
       "    <tr>\n",
       "      <th>7</th>\n",
       "      <td>2022-08-26</td>\n",
       "      <td>2022-09-02</td>\n",
       "      <td>87</td>\n",
       "      <td>502</td>\n",
       "      <td>0.173307</td>\n",
       "      <td>7</td>\n",
       "    </tr>\n",
       "    <tr>\n",
       "      <th>8</th>\n",
       "      <td>2022-08-26</td>\n",
       "      <td>2022-09-03</td>\n",
       "      <td>89</td>\n",
       "      <td>502</td>\n",
       "      <td>0.177291</td>\n",
       "      <td>8</td>\n",
       "    </tr>\n",
       "    <tr>\n",
       "      <th>9</th>\n",
       "      <td>2022-08-26</td>\n",
       "      <td>2022-09-04</td>\n",
       "      <td>89</td>\n",
       "      <td>502</td>\n",
       "      <td>0.177291</td>\n",
       "      <td>9</td>\n",
       "    </tr>\n",
       "    <tr>\n",
       "      <th>10</th>\n",
       "      <td>2022-08-26</td>\n",
       "      <td>2022-09-05</td>\n",
       "      <td>57</td>\n",
       "      <td>502</td>\n",
       "      <td>0.113546</td>\n",
       "      <td>10</td>\n",
       "    </tr>\n",
       "    <tr>\n",
       "      <th>11</th>\n",
       "      <td>2022-08-26</td>\n",
       "      <td>2022-09-06</td>\n",
       "      <td>51</td>\n",
       "      <td>502</td>\n",
       "      <td>0.101594</td>\n",
       "      <td>11</td>\n",
       "    </tr>\n",
       "    <tr>\n",
       "      <th>12</th>\n",
       "      <td>2022-08-26</td>\n",
       "      <td>2022-09-07</td>\n",
       "      <td>63</td>\n",
       "      <td>502</td>\n",
       "      <td>0.125498</td>\n",
       "      <td>12</td>\n",
       "    </tr>\n",
       "    <tr>\n",
       "      <th>13</th>\n",
       "      <td>2022-08-26</td>\n",
       "      <td>2022-09-08</td>\n",
       "      <td>55</td>\n",
       "      <td>502</td>\n",
       "      <td>0.109562</td>\n",
       "      <td>13</td>\n",
       "    </tr>\n",
       "  </tbody>\n",
       "</table>\n",
       "</div>"
      ],
      "text/plain": [
       "   first_order_date       date  users_count  max_users  users_share  days_diff\n",
       "0        2022-08-26 2022-08-26          502        502     1.000000          0\n",
       "1        2022-08-26 2022-08-27          133        502     0.264940          1\n",
       "2        2022-08-26 2022-08-28          134        502     0.266932          2\n",
       "3        2022-08-26 2022-08-29          136        502     0.270916          3\n",
       "4        2022-08-26 2022-08-30           99        502     0.197211          4\n",
       "5        2022-08-26 2022-08-31           92        502     0.183267          5\n",
       "6        2022-08-26 2022-09-01           88        502     0.175299          6\n",
       "7        2022-08-26 2022-09-02           87        502     0.173307          7\n",
       "8        2022-08-26 2022-09-03           89        502     0.177291          8\n",
       "9        2022-08-26 2022-09-04           89        502     0.177291          9\n",
       "10       2022-08-26 2022-09-05           57        502     0.113546         10\n",
       "11       2022-08-26 2022-09-06           51        502     0.101594         11\n",
       "12       2022-08-26 2022-09-07           63        502     0.125498         12\n",
       "13       2022-08-26 2022-09-08           55        502     0.109562         13"
      ]
     },
     "execution_count": 141,
     "metadata": {},
     "output_type": "execute_result"
    }
   ],
   "source": [
    "retention_rate_experimental"
   ]
  },
  {
   "cell_type": "code",
   "execution_count": 142,
   "metadata": {},
   "outputs": [
    {
     "data": {
      "text/plain": [
       "<matplotlib.axes._subplots.AxesSubplot at 0x7f76913a8a90>"
      ]
     },
     "execution_count": 142,
     "metadata": {},
     "output_type": "execute_result"
    },
    {
     "data": {
      "image/png": "[encoded data removed]",
      "text/plain": [
       "<Figure size 1008x432 with 1 Axes>"
      ]
     },
     "metadata": {
      "needs_background": "light"
     },
     "output_type": "display_data"
    }
   ],
   "source": [
    "plt.figure(figsize = (14, 6))\n",
    "sns.lineplot(data = retention_rate_experimental, x = 'days_diff', y = 'users_share')"
   ]
  },
  {
   "cell_type": "markdown",
   "metadata": {},
   "source": [
    "*Теперь посмотрим на Retention в обоих группах*"
   ]
  },
  {
   "cell_type": "code",
   "execution_count": 143,
   "metadata": {},
   "outputs": [],
   "source": [
    "retention_two_groups = retention_rate_control[['days_diff', 'users_share']] \\\n",
    "    .merge(retention_rate_experimental[['days_diff', 'users_share']], on = 'days_diff', how = 'inner') \\\n",
    "    .rename(columns = {'users_share_x': 'users_share_control', 'users_share_y': 'users_share_experimental'}) \\\n",
    "    .set_index('days_diff')"
   ]
  },
  {
   "cell_type": "code",
   "execution_count": 144,
   "metadata": {},
   "outputs": [
    {
     "data": {
      "text/html": [
       "<style  type=\"text/css\" >\n",
       "#T_32160cfa_f327_11ee_bdbb_96000040dfb6row0_col0,#T_32160cfa_f327_11ee_bdbb_96000040dfb6row0_col1,#T_32160cfa_f327_11ee_bdbb_96000040dfb6row0_col2,#T_32160cfa_f327_11ee_bdbb_96000040dfb6row0_col3,#T_32160cfa_f327_11ee_bdbb_96000040dfb6row0_col4,#T_32160cfa_f327_11ee_bdbb_96000040dfb6row0_col5,#T_32160cfa_f327_11ee_bdbb_96000040dfb6row0_col6,#T_32160cfa_f327_11ee_bdbb_96000040dfb6row0_col7,#T_32160cfa_f327_11ee_bdbb_96000040dfb6row0_col8,#T_32160cfa_f327_11ee_bdbb_96000040dfb6row0_col9,#T_32160cfa_f327_11ee_bdbb_96000040dfb6row0_col10,#T_32160cfa_f327_11ee_bdbb_96000040dfb6row0_col11,#T_32160cfa_f327_11ee_bdbb_96000040dfb6row0_col12,#T_32160cfa_f327_11ee_bdbb_96000040dfb6row0_col13,#T_32160cfa_f327_11ee_bdbb_96000040dfb6row1_col0{\n",
       "            background-color:  #00224e;\n",
       "            color:  #f1f1f1;\n",
       "        }#T_32160cfa_f327_11ee_bdbb_96000040dfb6row1_col1,#T_32160cfa_f327_11ee_bdbb_96000040dfb6row1_col2,#T_32160cfa_f327_11ee_bdbb_96000040dfb6row1_col3,#T_32160cfa_f327_11ee_bdbb_96000040dfb6row1_col4,#T_32160cfa_f327_11ee_bdbb_96000040dfb6row1_col5,#T_32160cfa_f327_11ee_bdbb_96000040dfb6row1_col6,#T_32160cfa_f327_11ee_bdbb_96000040dfb6row1_col7,#T_32160cfa_f327_11ee_bdbb_96000040dfb6row1_col8,#T_32160cfa_f327_11ee_bdbb_96000040dfb6row1_col9,#T_32160cfa_f327_11ee_bdbb_96000040dfb6row1_col10,#T_32160cfa_f327_11ee_bdbb_96000040dfb6row1_col11,#T_32160cfa_f327_11ee_bdbb_96000040dfb6row1_col12,#T_32160cfa_f327_11ee_bdbb_96000040dfb6row1_col13{\n",
       "            background-color:  #fee838;\n",
       "            color:  #000000;\n",
       "        }</style><table id=\"T_32160cfa_f327_11ee_bdbb_96000040dfb6\" ><caption>User Retention: Cohort 2022-08-26</caption><thead>    <tr>        <th class=\"index_name level0\" >days_diff</th>        <th class=\"col_heading level0 col0\" >0</th>        <th class=\"col_heading level0 col1\" >1</th>        <th class=\"col_heading level0 col2\" >2</th>        <th class=\"col_heading level0 col3\" >3</th>        <th class=\"col_heading level0 col4\" >4</th>        <th class=\"col_heading level0 col5\" >5</th>        <th class=\"col_heading level0 col6\" >6</th>        <th class=\"col_heading level0 col7\" >7</th>        <th class=\"col_heading level0 col8\" >8</th>        <th class=\"col_heading level0 col9\" >9</th>        <th class=\"col_heading level0 col10\" >10</th>        <th class=\"col_heading level0 col11\" >11</th>        <th class=\"col_heading level0 col12\" >12</th>        <th class=\"col_heading level0 col13\" >13</th>    </tr></thead><tbody>\n",
       "                <tr>\n",
       "                        <th id=\"T_32160cfa_f327_11ee_bdbb_96000040dfb6level0_row0\" class=\"row_heading level0 row0\" >users_share_control</th>\n",
       "                        <td id=\"T_32160cfa_f327_11ee_bdbb_96000040dfb6row0_col0\" class=\"data row0 col0\" >100.00%</td>\n",
       "                        <td id=\"T_32160cfa_f327_11ee_bdbb_96000040dfb6row0_col1\" class=\"data row0 col1\" >16.70%</td>\n",
       "                        <td id=\"T_32160cfa_f327_11ee_bdbb_96000040dfb6row0_col2\" class=\"data row0 col2\" >13.79%</td>\n",
       "                        <td id=\"T_32160cfa_f327_11ee_bdbb_96000040dfb6row0_col3\" class=\"data row0 col3\" >16.89%</td>\n",
       "                        <td id=\"T_32160cfa_f327_11ee_bdbb_96000040dfb6row0_col4\" class=\"data row0 col4\" >14.37%</td>\n",
       "                        <td id=\"T_32160cfa_f327_11ee_bdbb_96000040dfb6row0_col5\" class=\"data row0 col5\" >10.87%</td>\n",
       "                        <td id=\"T_32160cfa_f327_11ee_bdbb_96000040dfb6row0_col6\" class=\"data row0 col6\" >11.65%</td>\n",
       "                        <td id=\"T_32160cfa_f327_11ee_bdbb_96000040dfb6row0_col7\" class=\"data row0 col7\" >10.49%</td>\n",
       "                        <td id=\"T_32160cfa_f327_11ee_bdbb_96000040dfb6row0_col8\" class=\"data row0 col8\" >9.71%</td>\n",
       "                        <td id=\"T_32160cfa_f327_11ee_bdbb_96000040dfb6row0_col9\" class=\"data row0 col9\" >12.23%</td>\n",
       "                        <td id=\"T_32160cfa_f327_11ee_bdbb_96000040dfb6row0_col10\" class=\"data row0 col10\" >6.80%</td>\n",
       "                        <td id=\"T_32160cfa_f327_11ee_bdbb_96000040dfb6row0_col11\" class=\"data row0 col11\" >6.99%</td>\n",
       "                        <td id=\"T_32160cfa_f327_11ee_bdbb_96000040dfb6row0_col12\" class=\"data row0 col12\" >7.77%</td>\n",
       "                        <td id=\"T_32160cfa_f327_11ee_bdbb_96000040dfb6row0_col13\" class=\"data row0 col13\" >7.38%</td>\n",
       "            </tr>\n",
       "            <tr>\n",
       "                        <th id=\"T_32160cfa_f327_11ee_bdbb_96000040dfb6level0_row1\" class=\"row_heading level0 row1\" >users_share_experimental</th>\n",
       "                        <td id=\"T_32160cfa_f327_11ee_bdbb_96000040dfb6row1_col0\" class=\"data row1 col0\" >100.00%</td>\n",
       "                        <td id=\"T_32160cfa_f327_11ee_bdbb_96000040dfb6row1_col1\" class=\"data row1 col1\" >26.49%</td>\n",
       "                        <td id=\"T_32160cfa_f327_11ee_bdbb_96000040dfb6row1_col2\" class=\"data row1 col2\" >26.69%</td>\n",
       "                        <td id=\"T_32160cfa_f327_11ee_bdbb_96000040dfb6row1_col3\" class=\"data row1 col3\" >27.09%</td>\n",
       "                        <td id=\"T_32160cfa_f327_11ee_bdbb_96000040dfb6row1_col4\" class=\"data row1 col4\" >19.72%</td>\n",
       "                        <td id=\"T_32160cfa_f327_11ee_bdbb_96000040dfb6row1_col5\" class=\"data row1 col5\" >18.33%</td>\n",
       "                        <td id=\"T_32160cfa_f327_11ee_bdbb_96000040dfb6row1_col6\" class=\"data row1 col6\" >17.53%</td>\n",
       "                        <td id=\"T_32160cfa_f327_11ee_bdbb_96000040dfb6row1_col7\" class=\"data row1 col7\" >17.33%</td>\n",
       "                        <td id=\"T_32160cfa_f327_11ee_bdbb_96000040dfb6row1_col8\" class=\"data row1 col8\" >17.73%</td>\n",
       "                        <td id=\"T_32160cfa_f327_11ee_bdbb_96000040dfb6row1_col9\" class=\"data row1 col9\" >17.73%</td>\n",
       "                        <td id=\"T_32160cfa_f327_11ee_bdbb_96000040dfb6row1_col10\" class=\"data row1 col10\" >11.35%</td>\n",
       "                        <td id=\"T_32160cfa_f327_11ee_bdbb_96000040dfb6row1_col11\" class=\"data row1 col11\" >10.16%</td>\n",
       "                        <td id=\"T_32160cfa_f327_11ee_bdbb_96000040dfb6row1_col12\" class=\"data row1 col12\" >12.55%</td>\n",
       "                        <td id=\"T_32160cfa_f327_11ee_bdbb_96000040dfb6row1_col13\" class=\"data row1 col13\" >10.96%</td>\n",
       "            </tr>\n",
       "    </tbody></table>"
      ],
      "text/plain": [
       "<pandas.io.formats.style.Styler at 0x7f769131cbe0>"
      ]
     },
     "execution_count": 144,
     "metadata": {},
     "output_type": "execute_result"
    }
   ],
   "source": [
    "retention_style = (retention_two_groups.transpose()\n",
    "            .style\n",
    "            .set_caption('User Retention: Cohort 2022-08-26')  # добавляем подпись\n",
    "            .background_gradient(cmap='cividis')  # раскрашиваем ячейки по столбцам\n",
    "            .highlight_null('white')  # делаем белый фон для значений NaN\n",
    "            .format(\"{:.2%}\", na_rep=\"\"))  # числа форматируем как проценты, NaN заменяем на пустоту\n",
    "retention_style"
   ]
  },
  {
   "cell_type": "code",
   "execution_count": 145,
   "metadata": {},
   "outputs": [
    {
     "data": {
      "text/plain": [
       "<matplotlib.axes._subplots.AxesSubplot at 0x7f7691396ef0>"
      ]
     },
     "execution_count": 145,
     "metadata": {},
     "output_type": "execute_result"
    },
    {
     "data": {
      "image/png": "[encoded data removed]",
      "text/plain": [
       "<Figure size 1152x432 with 1 Axes>"
      ]
     },
     "metadata": {
      "needs_background": "light"
     },
     "output_type": "display_data"
    }
   ],
   "source": [
    "plt.figure(figsize = (16, 6))\n",
    "sns.lineplot(data = retention_two_groups)"
   ]
  },
  {
   "cell_type": "markdown",
   "metadata": {},
   "source": [
    "*Заметно, что Retention Rate в экспериментальной группе выше. Как обычно, проверим это с помощью стат. тестов*"
   ]
  },
  {
   "cell_type": "code",
   "execution_count": 146,
   "metadata": {},
   "outputs": [
    {
     "data": {
      "text/plain": [
       "<matplotlib.axes._subplots.AxesSubplot at 0x7f7691308710>"
      ]
     },
     "execution_count": 146,
     "metadata": {},
     "output_type": "execute_result"
    },
    {
     "data": {
      "image/png": "[encoded data removed]",
      "text/plain": [
       "<Figure size 432x288 with 1 Axes>"
      ]
     },
     "metadata": {
      "needs_background": "light"
     },
     "output_type": "display_data"
    }
   ],
   "source": [
    "sns.histplot(retention_two_groups)"
   ]
  },
  {
   "cell_type": "markdown",
   "metadata": {},
   "source": [
    "*Распределение получилось ненормальным для обоих групп, также с выбросами. Поэтому воспользуемся непараметрическим критерием Манна-Уитни*"
   ]
  },
  {
   "cell_type": "code",
   "execution_count": 147,
   "metadata": {},
   "outputs": [
    {
     "data": {
      "text/plain": [
       "MannwhitneyuResult(statistic=37.5, pvalue=0.005822462360179158)"
      ]
     },
     "execution_count": 147,
     "metadata": {},
     "output_type": "execute_result"
    }
   ],
   "source": [
    "stats.mannwhitneyu(retention_two_groups['users_share_control'],\n",
    "                   retention_two_groups['users_share_experimental'])"
   ]
  },
  {
   "cell_type": "markdown",
   "metadata": {},
   "source": [
    "*p-value получился равным 0.006, что меньше порога значимости 0.05. Делаем вывод, что наши группы различаются стат. значимо*"
   ]
  },
  {
   "cell_type": "markdown",
   "metadata": {},
   "source": [
    "---"
   ]
  },
  {
   "cell_type": "markdown",
   "metadata": {},
   "source": [
    "## Выводы:\n",
    "    1. Новый алгоритм позволил добиться увеличения в количестве заказов пользователей, а также положительно сказался на показателе Retention, т.е. пользователи охотнее возвращаются к нам с новым алгоритмом.\n",
    "    2. Новый алгоритм не повлиял на средний чек заказа пользователей. По крайней мере, эксперименту не удалось зафиксировать стат. значимых различий. Возможно, p-value не сошелся с такой продолжительностью и выборкой эксперимента.\n",
    "    3. Из п.1 и п.2 можно вывести следствие, что и выручка у нашего сервиса увеличилась. (Стат. значимо увеличились заказы, но никак не изменился средний чек заказа)"
   ]
  },
  {
   "cell_type": "markdown",
   "metadata": {},
   "source": [
    "---"
   ]
  },
  {
   "cell_type": "markdown",
   "metadata": {},
   "source": [
    "## Заключение: Новый алгоритм положительно сказался на продукте. Его стоит включить в финальную версию приложения."
   ]
  }
 ],
 "metadata": {
  "kernelspec": {
   "display_name": "Python 3",
   "language": "python",
   "name": "python3"
  },
  "language_info": {
   "codemirror_mode": {
    "name": "ipython",
    "version": 3
   },
   "file_extension": ".py",
   "mimetype": "text/x-python",
   "name": "python",
   "nbconvert_exporter": "python",
   "pygments_lexer": "ipython3",
   "version": "3.7.3"
  }
 },
 "nbformat": 4,
 "nbformat_minor": 4
}
